{
 "cells": [
  {
   "cell_type": "code",
   "execution_count": 1,
   "id": "71b234ec",
   "metadata": {},
   "outputs": [
    {
     "name": "stderr",
     "output_type": "stream",
     "text": [
      "/home/ilee300/workspace/nlp_ofa/transformers/src/transformers/models/bert/modeling_bert.py:957: SyntaxWarning: assertion is always true, perhaps remove parentheses?\n",
      "  assert(self.encoder != None, \"the encoder cannot be None\")\n",
      "/home/ilee300/workspace/nlp_ofa/transformers/src/transformers/models/bert/modeling_bert.py:960: SyntaxWarning: assertion is always true, perhaps remove parentheses?\n",
      "  assert(self.encoder.config.num_hidden_layers >= max_encoder_num, \"the max encoder number should not exceed defined hidden layer\")\n"
     ]
    }
   ],
   "source": [
    "import seaborn as sns\n",
    "import matplotlib.pyplot as plt\n",
    "\n",
    "import pandas as pd\n",
    "import torch\n",
    "\n",
    "# Preliminaries\n",
    "\n",
    "from torchtext.data import Field, TabularDataset, BucketIterator, Iterator\n",
    "\n",
    "# Models\n",
    "\n",
    "import torch.nn as nn\n",
    "from transformers import BertTokenizer, BertForSequenceClassification\n",
    "\n",
    "# Training\n",
    "\n",
    "import torch.optim as optim\n",
    "\n",
    "# Evaluation\n",
    "\n",
    "from sklearn.metrics import accuracy_score, classification_report, confusion_matrix\n",
    "import time\n",
    "import os\n",
    "\n",
    "\n"
   ]
  },
  {
   "cell_type": "code",
   "execution_count": 2,
   "id": "82b9c352",
   "metadata": {
    "scrolled": true
   },
   "outputs": [
    {
     "name": "stdout",
     "output_type": "stream",
     "text": [
      "checking time :  1629922663.590056\n",
      "cuda:0\n"
     ]
    }
   ],
   "source": [
    "print(\"checking time : \" , time.time())\n",
    "device = torch.device('cuda:0' if torch.cuda.is_available() else 'cpu')\n",
    "print(device)"
   ]
  },
  {
   "cell_type": "code",
   "execution_count": 3,
   "id": "ed0fbb08",
   "metadata": {},
   "outputs": [],
   "source": [
    "dirname = os.getcwd()\n",
    "\n",
    "source_folder = os.path.join(dirname,'../data')\n",
    "destination_folder =os.path.join(dirname,'../data/saved_models')"
   ]
  },
  {
   "cell_type": "code",
   "execution_count": 4,
   "id": "226c5be2",
   "metadata": {},
   "outputs": [
    {
     "data": {
      "text/plain": [
       "'/home/ilee300/workspace/nlp_ofa/transformers/notebooks/../data/saved_models'"
      ]
     },
     "execution_count": 4,
     "metadata": {},
     "output_type": "execute_result"
    }
   ],
   "source": [
    "destination_folder"
   ]
  },
  {
   "cell_type": "code",
   "execution_count": 5,
   "id": "e1d8367d",
   "metadata": {},
   "outputs": [],
   "source": [
    "tokenizer = BertTokenizer.from_pretrained('bert-base-uncased')\n"
   ]
  },
  {
   "cell_type": "code",
   "execution_count": 6,
   "id": "ff0652bd",
   "metadata": {
    "scrolled": true
   },
   "outputs": [
    {
     "name": "stderr",
     "output_type": "stream",
     "text": [
      "Token indices sequence length is longer than the specified maximum sequence length for this model (706 > 512). Running this sequence through the model will result in indexing errors\n"
     ]
    }
   ],
   "source": [
    "# Model parameter\n",
    "MAX_SEQ_LEN = 128\n",
    "PAD_INDEX = tokenizer.convert_tokens_to_ids(tokenizer.pad_token)\n",
    "UNK_INDEX = tokenizer.convert_tokens_to_ids(tokenizer.unk_token)\n",
    "\n",
    "# Fields\n",
    "\n",
    "label_field = Field(sequential=False, use_vocab=False, batch_first=True, dtype=torch.float)\n",
    "text_field = Field(use_vocab=False, tokenize=tokenizer.encode, lower=False, include_lengths=False, batch_first=True,\n",
    "                   fix_length=MAX_SEQ_LEN, pad_token=PAD_INDEX, unk_token=UNK_INDEX)\n",
    "fields = [('label', label_field), ('title', text_field), ('text', text_field), ('titletext', text_field)]\n",
    "# fields = [('text', text_field),('sentiment', label_field)]\n",
    "\n",
    "# TabularDataset\n",
    "\n",
    "train, valid, test = TabularDataset.splits(path=source_folder, train='train.csv', validation='valid.csv',\n",
    "                                           test='test.csv', format='CSV', fields=fields, skip_header=True)\n",
    "\n",
    "# Iterators\n",
    "\n",
    "train_iter = BucketIterator(train, batch_size=16, sort_key=lambda x: len(x.text),\n",
    "                            device=device, train=True, sort=True, sort_within_batch=True,shuffle=True)\n",
    "valid_iter = BucketIterator(valid, batch_size=16, sort_key=lambda x: len(x.text),\n",
    "                            device=device, train=True, sort=True, sort_within_batch=True,shuffle=True)\n",
    "test_iter = Iterator(test, batch_size=16, device=device, train=False, shuffle=True, sort=False)"
   ]
  },
  {
   "cell_type": "code",
   "execution_count": 7,
   "id": "a16cdc84",
   "metadata": {},
   "outputs": [],
   "source": [
    "class BERT(nn.Module):\n",
    "\n",
    "    def __init__(self):\n",
    "        super(BERT, self).__init__()\n",
    "\n",
    "        options_name = \"bert-base-uncased\"\n",
    "        self.encoder = BertForSequenceClassification.from_pretrained(options_name)\n",
    "\n",
    "    def forward(self, text, label):\n",
    "        loss, text_fea = self.encoder(text, labels=label)[:2]\n",
    "\n",
    "        return loss, text_fea"
   ]
  },
  {
   "cell_type": "code",
   "execution_count": 8,
   "id": "b644215a",
   "metadata": {},
   "outputs": [],
   "source": [
    "\n",
    "def save_checkpoint(save_path, model, valid_loss):\n",
    "\n",
    "    if save_path == None:\n",
    "        return\n",
    "    \n",
    "    state_dict = {'model_state_dict': model.state_dict(),\n",
    "                  'valid_loss': valid_loss}\n",
    "    \n",
    "    torch.save(state_dict, save_path)\n",
    "    print(f'Model saved to ==> {save_path}')\n",
    "\n",
    "def load_checkpoint(load_path, model):\n",
    "    \n",
    "    if load_path==None:\n",
    "        return\n",
    "    \n",
    "    state_dict = torch.load(load_path, map_location=device)\n",
    "    print(f'Model loaded from <== {load_path}')\n",
    "    \n",
    "    model.load_state_dict(state_dict['model_state_dict'])\n",
    "    return state_dict['valid_loss']\n",
    "\n",
    "\n",
    "def save_metrics(save_path, train_loss_list, valid_loss_list, global_steps_list):\n",
    "\n",
    "    if save_path == None:\n",
    "        return\n",
    "    \n",
    "    state_dict = {'train_loss_list': train_loss_list,\n",
    "                  'valid_loss_list': valid_loss_list,\n",
    "                  'global_steps_list': global_steps_list}\n",
    "    \n",
    "    torch.save(state_dict, save_path)\n",
    "    print(f'Model saved to ==> {save_path}')\n",
    "\n",
    "\n",
    "def load_metrics(load_path):\n",
    "\n",
    "    if load_path==None:\n",
    "        return\n",
    "    \n",
    "    state_dict = torch.load(load_path, map_location=device)\n",
    "    print(f'Model loaded from <== {load_path}')\n",
    "    \n",
    "    return state_dict['train_loss_list'], state_dict['valid_loss_list'], state_dict['global_steps_list']"
   ]
  },
  {
   "cell_type": "code",
   "execution_count": 9,
   "id": "9b82cdac",
   "metadata": {},
   "outputs": [],
   "source": [
    "# Training Function\n",
    "\n",
    "def train(model,\n",
    "          optimizer,\n",
    "          criterion = nn.BCELoss(),\n",
    "          train_loader = train_iter,\n",
    "          valid_loader = valid_iter,\n",
    "          num_epochs = 5,\n",
    "          eval_every = len(train_iter) // 2,\n",
    "          file_path = destination_folder,\n",
    "          best_valid_loss = float(\"Inf\"),\n",
    "         max_encoder_num = None):\n",
    "    model.encoder.set_attention_head_number(4)\n",
    "    # initialize running values\n",
    "    running_loss = 0.0\n",
    "    valid_running_loss = 0.0\n",
    "    global_step = 0\n",
    "    train_loss_list = []\n",
    "    valid_loss_list = []\n",
    "    global_steps_list = []\n",
    "\n",
    "    if max_encoder_num:\n",
    "        model.encoder.set_max_encoder_num(max_encoder_num)\n",
    "    else:\n",
    "        max_encoder_num=model.encoder.config.num_hidden_layers\n",
    "        model.encoder.set_max_encoder_num(model.encoder.config.num_hidden_layers)\n",
    "        \n",
    "    # training loop\n",
    "    model.train()\n",
    "    print(\"training the model with encoder number of \" , max_encoder_num)\n",
    "    for epoch in range(num_epochs):\n",
    "        for (labels, title, text, titletext), _ in train_loader:\n",
    "            labels = labels.type(torch.LongTensor)           \n",
    "            labels = labels.to(device)\n",
    "            titletext = titletext.type(torch.LongTensor)  \n",
    "            titletext = titletext.to(device)\n",
    "            output = model(titletext, labels)\n",
    "            loss, _ = output\n",
    "\n",
    "            optimizer.zero_grad()\n",
    "            loss.backward()\n",
    "            optimizer.step()\n",
    "\n",
    "            # update running values\n",
    "            running_loss += loss.item()\n",
    "            global_step += 1\n",
    "\n",
    "            # evaluation step\n",
    "            if global_step % eval_every == 0:\n",
    "                model.eval()\n",
    "                with torch.no_grad():                    \n",
    "\n",
    "                    # validation loop\n",
    "                    for (labels, title, text, titletext), _ in valid_loader:\n",
    "                        labels = labels.type(torch.LongTensor)           \n",
    "                        labels = labels.to(device)\n",
    "                        titletext = titletext.type(torch.LongTensor)  \n",
    "                        titletext = titletext.to(device)\n",
    "                        output = model(titletext, labels)\n",
    "                        loss, _ = output\n",
    "                        \n",
    "                        valid_running_loss += loss.item()\n",
    "\n",
    "                # evaluation\n",
    "                average_train_loss = running_loss / eval_every\n",
    "                average_valid_loss = valid_running_loss / len(valid_loader)\n",
    "                train_loss_list.append(average_train_loss)\n",
    "                valid_loss_list.append(average_valid_loss)\n",
    "                global_steps_list.append(global_step)\n",
    "\n",
    "                # resetting running values\n",
    "                running_loss = 0.0                \n",
    "                valid_running_loss = 0.0\n",
    "                model.train()\n",
    "\n",
    "                # print progress\n",
    "                print('Epoch [{}/{}], Step [{}/{}], Train Loss: {:.4f}, Valid Loss: {:.4f}'\n",
    "                      .format(epoch+1, num_epochs, global_step, num_epochs*len(train_loader),\n",
    "                              average_train_loss, average_valid_loss))\n",
    "                \n",
    "                # checkpoint\n",
    "                if best_valid_loss > average_valid_loss:\n",
    "                    best_valid_loss = average_valid_loss\n",
    "                    save_checkpoint(file_path + '/' +str(max_encoder_num)+ 'model.pt', model, best_valid_loss)\n",
    "                    save_metrics(file_path + '/' + str(max_encoder_num)+ 'metrics.pt', train_loss_list, valid_loss_list, global_steps_list)\n",
    "    \n",
    "    save_metrics(file_path + '/' +str(max_encoder_num)+ 'metrics.pt', train_loss_list, valid_loss_list, global_steps_list)\n",
    "    print('Finished Training!')"
   ]
  },
  {
   "cell_type": "code",
   "execution_count": 10,
   "id": "5a47d4e3",
   "metadata": {},
   "outputs": [],
   "source": [
    "# Evaluation Function\n",
    "\n",
    "def evaluate(model, test_loader,max_encoder_num=None ):\n",
    "    y_pred = []\n",
    "    y_true = []\n",
    "    if max_encoder_num:\n",
    "        model.encoder.set_max_encoder_num(max_encoder_num)\n",
    "    else:\n",
    "        max_encoder_num=model.encoder.config.num_hidden_layers\n",
    "        model.encoder.set_max_encoder_num(model.encoder.config.num_hidden_layers)\n",
    "    print(\"evaluating with max encoder number of \", max_encoder_num)\n",
    "    model.eval()\n",
    "    with torch.no_grad():\n",
    "        for (labels, title, text, titletext), _ in test_loader:\n",
    "\n",
    "                labels = labels.type(torch.LongTensor)           \n",
    "                labels = labels.to(device)\n",
    "                titletext = titletext.type(torch.LongTensor)  \n",
    "                titletext = titletext.to(device)\n",
    "                output = model(titletext, labels)\n",
    "\n",
    "                _, output = output\n",
    "                y_pred.extend(torch.argmax(output, 1).tolist())\n",
    "                y_true.extend(labels.tolist())\n",
    "    \n",
    "    print('Classification Report:')\n",
    "    print(classification_report(y_true, y_pred, labels=[1,0], digits=4))\n",
    "    \n",
    "    cm = confusion_matrix(y_true, y_pred, labels=[1,0])\n",
    "    ax= plt.subplot()\n",
    "    sns.heatmap(cm, annot=True, ax = ax, cmap='Blues', fmt=\"d\")\n",
    "\n",
    "    ax.set_title('Confusion Matrix')\n",
    "\n",
    "    ax.set_xlabel('Predicted Labels')\n",
    "    ax.set_ylabel('True Labels')\n",
    "\n",
    "    ax.xaxis.set_ticklabels(['FAKE', 'REAL'])\n",
    "    ax.yaxis.set_ticklabels(['FAKE', 'REAL'])\n",
    "    from sklearn.metrics import accuracy_score\n",
    "    return accuracy_score(y_pred,y_true)"
   ]
  },
  {
   "cell_type": "code",
   "execution_count": 11,
   "id": "562f663b",
   "metadata": {
    "scrolled": false
   },
   "outputs": [
    {
     "name": "stderr",
     "output_type": "stream",
     "text": [
      "Some weights of the model checkpoint at bert-base-uncased were not used when initializing BertForSequenceClassification: ['bert.encoder.layer.1.attention.self.key.bias', 'bert.encoder.layer.11.attention.self.value.bias', 'bert.encoder.layer.10.attention.self.query.weight', 'bert.encoder.layer.10.attention.self.key.bias', 'bert.encoder.layer.6.attention.self.value.bias', 'bert.encoder.layer.8.attention.self.key.weight', 'bert.encoder.layer.0.attention.self.value.weight', 'bert.encoder.layer.9.attention.self.key.weight', 'bert.encoder.layer.7.attention.self.query.weight', 'bert.encoder.layer.4.attention.self.query.weight', 'bert.encoder.layer.7.attention.self.query.bias', 'bert.encoder.layer.2.attention.self.value.bias', 'bert.encoder.layer.3.attention.self.query.bias', 'bert.encoder.layer.3.attention.self.value.weight', 'bert.encoder.layer.4.attention.self.query.bias', 'bert.encoder.layer.6.attention.self.query.bias', 'bert.encoder.layer.10.attention.self.value.bias', 'cls.predictions.bias', 'bert.encoder.layer.0.attention.self.query.weight', 'bert.encoder.layer.7.attention.self.value.weight', 'bert.encoder.layer.7.attention.self.key.bias', 'cls.predictions.decoder.weight', 'bert.encoder.layer.4.attention.self.value.bias', 'bert.encoder.layer.6.attention.self.value.weight', 'bert.encoder.layer.2.attention.self.query.weight', 'bert.encoder.layer.9.attention.self.query.bias', 'bert.encoder.layer.5.attention.self.value.bias', 'bert.encoder.layer.6.attention.self.query.weight', 'bert.encoder.layer.11.attention.self.key.bias', 'bert.encoder.layer.1.attention.self.query.bias', 'bert.encoder.layer.1.attention.self.query.weight', 'bert.encoder.layer.1.attention.self.key.weight', 'bert.encoder.layer.6.attention.self.key.bias', 'bert.encoder.layer.0.attention.self.value.bias', 'cls.predictions.transform.dense.bias', 'bert.encoder.layer.7.attention.self.value.bias', 'bert.encoder.layer.10.attention.self.value.weight', 'bert.encoder.layer.11.attention.self.query.weight', 'bert.encoder.layer.9.attention.self.value.weight', 'bert.encoder.layer.0.attention.self.key.weight', 'bert.encoder.layer.11.attention.self.key.weight', 'bert.encoder.layer.3.attention.self.key.bias', 'bert.encoder.layer.8.attention.self.value.bias', 'bert.encoder.layer.11.attention.self.value.weight', 'bert.encoder.layer.8.attention.self.query.bias', 'bert.encoder.layer.10.attention.self.query.bias', 'bert.encoder.layer.3.attention.self.query.weight', 'bert.encoder.layer.8.attention.self.query.weight', 'bert.encoder.layer.2.attention.self.key.bias', 'bert.encoder.layer.5.attention.self.query.bias', 'bert.encoder.layer.5.attention.self.query.weight', 'bert.encoder.layer.2.attention.self.key.weight', 'bert.encoder.layer.3.attention.self.value.bias', 'bert.encoder.layer.2.attention.self.query.bias', 'cls.seq_relationship.bias', 'bert.encoder.layer.5.attention.self.value.weight', 'cls.predictions.transform.LayerNorm.bias', 'bert.encoder.layer.5.attention.self.key.bias', 'bert.encoder.layer.4.attention.self.key.weight', 'bert.encoder.layer.9.attention.self.query.weight', 'bert.encoder.layer.8.attention.self.value.weight', 'bert.encoder.layer.1.attention.self.value.bias', 'cls.predictions.transform.LayerNorm.weight', 'bert.encoder.layer.0.attention.self.key.bias', 'bert.encoder.layer.5.attention.self.key.weight', 'bert.encoder.layer.11.attention.self.query.bias', 'bert.encoder.layer.10.attention.self.key.weight', 'cls.seq_relationship.weight', 'bert.encoder.layer.1.attention.self.value.weight', 'bert.encoder.layer.8.attention.self.key.bias', 'bert.encoder.layer.0.attention.self.query.bias', 'cls.predictions.transform.dense.weight', 'bert.encoder.layer.3.attention.self.key.weight', 'bert.encoder.layer.4.attention.self.value.weight', 'bert.encoder.layer.9.attention.self.key.bias', 'bert.encoder.layer.4.attention.self.key.bias', 'bert.encoder.layer.6.attention.self.key.weight', 'bert.encoder.layer.2.attention.self.value.weight', 'bert.encoder.layer.9.attention.self.value.bias', 'bert.encoder.layer.7.attention.self.key.weight']\n",
      "- This IS expected if you are initializing BertForSequenceClassification from the checkpoint of a model trained on another task or with another architecture (e.g. initializing a BertForSequenceClassification model from a BertForPreTraining model).\n",
      "- This IS NOT expected if you are initializing BertForSequenceClassification from the checkpoint of a model that you expect to be exactly identical (initializing a BertForSequenceClassification model from a BertForSequenceClassification model).\n",
      "Some weights of BertForSequenceClassification were not initialized from the model checkpoint at bert-base-uncased and are newly initialized: ['bert.encoder.layer.2.attention.self.key.linear.weight', 'bert.encoder.layer.11.attention.self.query.linear.bias', 'bert.encoder.layer.3.attention.self.value.linear.weight', 'bert.encoder.layer.1.attention.self.value.linear.weight', 'bert.encoder.layer.1.attention.self.value.linear.bias', 'bert.encoder.layer.10.attention.self.query.linear.weight', 'bert.encoder.layer.11.attention.self.key.linear.bias', 'bert.encoder.layer.10.attention.self.query.linear.bias', 'bert.encoder.layer.0.attention.self.query.linear.bias', 'bert.encoder.layer.3.attention.self.query.linear.bias', 'bert.encoder.layer.9.attention.self.query.linear.weight', 'bert.encoder.layer.8.attention.self.key.linear.bias', 'bert.encoder.layer.6.attention.self.value.linear.weight', 'bert.encoder.layer.10.attention.self.value.linear.weight', 'bert.encoder.layer.9.attention.self.value.linear.weight', 'bert.encoder.layer.6.attention.self.value.linear.bias', 'bert.encoder.layer.2.attention.self.key.linear.bias', 'bert.encoder.layer.3.attention.self.key.linear.bias', 'bert.encoder.layer.7.attention.self.query.linear.bias', 'bert.encoder.layer.6.attention.self.key.linear.weight', 'bert.encoder.layer.8.attention.self.query.linear.weight', 'bert.encoder.layer.2.attention.self.value.linear.bias', 'bert.encoder.layer.5.attention.self.query.linear.weight', 'bert.encoder.layer.8.attention.self.value.linear.bias', 'bert.encoder.layer.9.attention.self.query.linear.bias', 'bert.encoder.layer.5.attention.self.key.linear.bias', 'bert.encoder.layer.7.attention.self.value.linear.weight', 'bert.encoder.layer.7.attention.self.key.linear.weight', 'bert.encoder.layer.1.attention.self.query.linear.weight', 'bert.encoder.layer.7.attention.self.value.linear.bias', 'bert.encoder.layer.1.attention.self.query.linear.bias', 'bert.encoder.layer.11.attention.self.key.linear.weight', 'bert.encoder.layer.4.attention.self.query.linear.weight', 'bert.encoder.layer.6.attention.self.key.linear.bias', 'bert.encoder.layer.3.attention.self.value.linear.bias', 'bert.encoder.layer.2.attention.self.query.linear.bias', 'bert.encoder.layer.6.attention.self.query.linear.weight', 'bert.encoder.layer.11.attention.self.query.linear.weight', 'bert.encoder.layer.0.attention.self.value.linear.bias', 'bert.encoder.layer.4.attention.self.value.linear.weight', 'bert.encoder.layer.9.attention.self.key.linear.bias', 'bert.encoder.layer.8.attention.self.key.linear.weight', 'bert.encoder.layer.11.attention.self.value.linear.weight', 'bert.encoder.layer.5.attention.self.value.linear.weight', 'bert.encoder.layer.4.attention.self.query.linear.bias', 'bert.encoder.layer.5.attention.self.query.linear.bias', 'bert.encoder.layer.1.attention.self.key.linear.bias', 'bert.encoder.layer.3.attention.self.key.linear.weight', 'bert.encoder.layer.6.attention.self.query.linear.bias', 'bert.encoder.layer.8.attention.self.query.linear.bias', 'bert.encoder.layer.0.attention.self.key.linear.bias', 'bert.encoder.layer.5.attention.self.value.linear.bias', 'bert.encoder.layer.10.attention.self.key.linear.bias', 'bert.encoder.layer.7.attention.self.key.linear.bias', 'bert.encoder.layer.0.attention.self.query.linear.weight', 'classifier.weight', 'bert.encoder.layer.8.attention.self.value.linear.weight', 'bert.encoder.layer.4.attention.self.value.linear.bias', 'bert.encoder.layer.10.attention.self.key.linear.weight', 'bert.encoder.layer.9.attention.self.key.linear.weight', 'classifier.bias', 'bert.encoder.layer.0.attention.self.value.linear.weight', 'bert.encoder.layer.0.attention.self.key.linear.weight', 'bert.encoder.layer.4.attention.self.key.linear.bias', 'bert.encoder.layer.4.attention.self.key.linear.weight', 'bert.encoder.layer.3.attention.self.query.linear.weight', 'bert.encoder.layer.10.attention.self.value.linear.bias', 'bert.encoder.layer.5.attention.self.key.linear.weight', 'bert.encoder.layer.2.attention.self.value.linear.weight', 'bert.encoder.layer.11.attention.self.value.linear.bias', 'bert.encoder.layer.2.attention.self.query.linear.weight', 'bert.encoder.layer.7.attention.self.query.linear.weight', 'bert.encoder.layer.9.attention.self.value.linear.bias', 'bert.encoder.layer.1.attention.self.key.linear.weight']\n",
      "You should probably TRAIN this model on a down-stream task to be able to use it for predictions and inference.\n"
     ]
    }
   ],
   "source": [
    "model = BERT().to(device)\n"
   ]
  },
  {
   "cell_type": "code",
   "execution_count": 12,
   "id": "da5971c5",
   "metadata": {
    "scrolled": false
   },
   "outputs": [
    {
     "data": {
      "text/plain": [
       "BertConfig {\n",
       "  \"_name_or_path\": \"bert-base-uncased\",\n",
       "  \"architectures\": [\n",
       "    \"BertForMaskedLM\"\n",
       "  ],\n",
       "  \"attention_probs_dropout_prob\": 0.1,\n",
       "  \"classifier_dropout\": null,\n",
       "  \"gradient_checkpointing\": false,\n",
       "  \"hidden_act\": \"gelu\",\n",
       "  \"hidden_dropout_prob\": 0.1,\n",
       "  \"hidden_size\": 768,\n",
       "  \"initializer_range\": 0.02,\n",
       "  \"intermediate_size\": 3072,\n",
       "  \"layer_norm_eps\": 1e-12,\n",
       "  \"max_position_embeddings\": 512,\n",
       "  \"model_type\": \"bert\",\n",
       "  \"num_attention_heads\": 12,\n",
       "  \"num_hidden_layers\": 12,\n",
       "  \"pad_token_id\": 0,\n",
       "  \"position_embedding_type\": \"absolute\",\n",
       "  \"transformers_version\": \"4.10.0.dev0\",\n",
       "  \"type_vocab_size\": 2,\n",
       "  \"use_cache\": true,\n",
       "  \"vocab_size\": 30522\n",
       "}"
      ]
     },
     "execution_count": 12,
     "metadata": {},
     "output_type": "execute_result"
    }
   ],
   "source": [
    "model.encoder.config"
   ]
  },
  {
   "cell_type": "code",
   "execution_count": 13,
   "id": "9a210059",
   "metadata": {},
   "outputs": [],
   "source": [
    "optimizer = optim.Adam(model.parameters(), lr=2e-5)"
   ]
  },
  {
   "cell_type": "code",
   "execution_count": 14,
   "id": "673dfaca",
   "metadata": {
    "scrolled": true
   },
   "outputs": [
    {
     "name": "stdout",
     "output_type": "stream",
     "text": [
      "setting attetion head number\n",
      "setting attetion head number\n",
      "setting attetion head number\n",
      "setting attetion head number\n",
      "setting attetion head number\n",
      "setting attetion head number\n",
      "setting attetion head number\n",
      "setting attetion head number\n",
      "setting attetion head number\n",
      "setting attetion head number\n",
      "setting attetion head number\n",
      "setting attetion head number\n",
      "changing encoder number :  12  =>  12\n",
      "training the model with encoder number of  12\n",
      "Epoch [1/5], Step [16/160], Train Loss: 0.7666, Valid Loss: 0.6976\n"
     ]
    },
    {
     "ename": "FileNotFoundError",
     "evalue": "[Errno 2] No such file or directory: '/home/ilee300/workspace/nlp_ofa/transformers/notebooks/../data/saved_models/12model.pt'",
     "output_type": "error",
     "traceback": [
      "\u001b[0;31m---------------------------------------------------------------------------\u001b[0m",
      "\u001b[0;31mFileNotFoundError\u001b[0m                         Traceback (most recent call last)",
      "\u001b[0;32m/tmp/ipykernel_5055/1917736793.py\u001b[0m in \u001b[0;36m<module>\u001b[0;34m\u001b[0m\n\u001b[0;32m----> 1\u001b[0;31m \u001b[0mtrain\u001b[0m\u001b[0;34m(\u001b[0m\u001b[0mmodel\u001b[0m\u001b[0;34m=\u001b[0m\u001b[0mmodel\u001b[0m\u001b[0;34m,\u001b[0m \u001b[0moptimizer\u001b[0m\u001b[0;34m=\u001b[0m\u001b[0moptimizer\u001b[0m\u001b[0;34m)\u001b[0m\u001b[0;34m\u001b[0m\u001b[0;34m\u001b[0m\u001b[0m\n\u001b[0m",
      "\u001b[0;32m/tmp/ipykernel_5055/3801877825.py\u001b[0m in \u001b[0;36mtrain\u001b[0;34m(model, optimizer, criterion, train_loader, valid_loader, num_epochs, eval_every, file_path, best_valid_loss, max_encoder_num)\u001b[0m\n\u001b[1;32m     82\u001b[0m                 \u001b[0;32mif\u001b[0m \u001b[0mbest_valid_loss\u001b[0m \u001b[0;34m>\u001b[0m \u001b[0maverage_valid_loss\u001b[0m\u001b[0;34m:\u001b[0m\u001b[0;34m\u001b[0m\u001b[0;34m\u001b[0m\u001b[0m\n\u001b[1;32m     83\u001b[0m                     \u001b[0mbest_valid_loss\u001b[0m \u001b[0;34m=\u001b[0m \u001b[0maverage_valid_loss\u001b[0m\u001b[0;34m\u001b[0m\u001b[0;34m\u001b[0m\u001b[0m\n\u001b[0;32m---> 84\u001b[0;31m                     \u001b[0msave_checkpoint\u001b[0m\u001b[0;34m(\u001b[0m\u001b[0mfile_path\u001b[0m \u001b[0;34m+\u001b[0m \u001b[0;34m'/'\u001b[0m \u001b[0;34m+\u001b[0m\u001b[0mstr\u001b[0m\u001b[0;34m(\u001b[0m\u001b[0mmax_encoder_num\u001b[0m\u001b[0;34m)\u001b[0m\u001b[0;34m+\u001b[0m \u001b[0;34m'model.pt'\u001b[0m\u001b[0;34m,\u001b[0m \u001b[0mmodel\u001b[0m\u001b[0;34m,\u001b[0m \u001b[0mbest_valid_loss\u001b[0m\u001b[0;34m)\u001b[0m\u001b[0;34m\u001b[0m\u001b[0;34m\u001b[0m\u001b[0m\n\u001b[0m\u001b[1;32m     85\u001b[0m                     \u001b[0msave_metrics\u001b[0m\u001b[0;34m(\u001b[0m\u001b[0mfile_path\u001b[0m \u001b[0;34m+\u001b[0m \u001b[0;34m'/'\u001b[0m \u001b[0;34m+\u001b[0m \u001b[0mstr\u001b[0m\u001b[0;34m(\u001b[0m\u001b[0mmax_encoder_num\u001b[0m\u001b[0;34m)\u001b[0m\u001b[0;34m+\u001b[0m \u001b[0;34m'metrics.pt'\u001b[0m\u001b[0;34m,\u001b[0m \u001b[0mtrain_loss_list\u001b[0m\u001b[0;34m,\u001b[0m \u001b[0mvalid_loss_list\u001b[0m\u001b[0;34m,\u001b[0m \u001b[0mglobal_steps_list\u001b[0m\u001b[0;34m)\u001b[0m\u001b[0;34m\u001b[0m\u001b[0;34m\u001b[0m\u001b[0m\n\u001b[1;32m     86\u001b[0m \u001b[0;34m\u001b[0m\u001b[0m\n",
      "\u001b[0;32m/tmp/ipykernel_5055/3387965576.py\u001b[0m in \u001b[0;36msave_checkpoint\u001b[0;34m(save_path, model, valid_loss)\u001b[0m\n\u001b[1;32m      7\u001b[0m                   'valid_loss': valid_loss}\n\u001b[1;32m      8\u001b[0m \u001b[0;34m\u001b[0m\u001b[0m\n\u001b[0;32m----> 9\u001b[0;31m     \u001b[0mtorch\u001b[0m\u001b[0;34m.\u001b[0m\u001b[0msave\u001b[0m\u001b[0;34m(\u001b[0m\u001b[0mstate_dict\u001b[0m\u001b[0;34m,\u001b[0m \u001b[0msave_path\u001b[0m\u001b[0;34m)\u001b[0m\u001b[0;34m\u001b[0m\u001b[0;34m\u001b[0m\u001b[0m\n\u001b[0m\u001b[1;32m     10\u001b[0m     \u001b[0mprint\u001b[0m\u001b[0;34m(\u001b[0m\u001b[0;34mf'Model saved to ==> {save_path}'\u001b[0m\u001b[0;34m)\u001b[0m\u001b[0;34m\u001b[0m\u001b[0;34m\u001b[0m\u001b[0m\n\u001b[1;32m     11\u001b[0m \u001b[0;34m\u001b[0m\u001b[0m\n",
      "\u001b[0;32m~/anaconda3/envs/nlp_ofa/lib/python3.9/site-packages/torch/serialization.py\u001b[0m in \u001b[0;36msave\u001b[0;34m(obj, f, pickle_module, pickle_protocol, _use_new_zipfile_serialization)\u001b[0m\n\u001b[1;32m    374\u001b[0m     \u001b[0m_check_dill_version\u001b[0m\u001b[0;34m(\u001b[0m\u001b[0mpickle_module\u001b[0m\u001b[0;34m)\u001b[0m\u001b[0;34m\u001b[0m\u001b[0;34m\u001b[0m\u001b[0m\n\u001b[1;32m    375\u001b[0m \u001b[0;34m\u001b[0m\u001b[0m\n\u001b[0;32m--> 376\u001b[0;31m     \u001b[0;32mwith\u001b[0m \u001b[0m_open_file_like\u001b[0m\u001b[0;34m(\u001b[0m\u001b[0mf\u001b[0m\u001b[0;34m,\u001b[0m \u001b[0;34m'wb'\u001b[0m\u001b[0;34m)\u001b[0m \u001b[0;32mas\u001b[0m \u001b[0mopened_file\u001b[0m\u001b[0;34m:\u001b[0m\u001b[0;34m\u001b[0m\u001b[0;34m\u001b[0m\u001b[0m\n\u001b[0m\u001b[1;32m    377\u001b[0m         \u001b[0;32mif\u001b[0m \u001b[0m_use_new_zipfile_serialization\u001b[0m\u001b[0;34m:\u001b[0m\u001b[0;34m\u001b[0m\u001b[0;34m\u001b[0m\u001b[0m\n\u001b[1;32m    378\u001b[0m             \u001b[0;32mwith\u001b[0m \u001b[0m_open_zipfile_writer\u001b[0m\u001b[0;34m(\u001b[0m\u001b[0mopened_file\u001b[0m\u001b[0;34m)\u001b[0m \u001b[0;32mas\u001b[0m \u001b[0mopened_zipfile\u001b[0m\u001b[0;34m:\u001b[0m\u001b[0;34m\u001b[0m\u001b[0;34m\u001b[0m\u001b[0m\n",
      "\u001b[0;32m~/anaconda3/envs/nlp_ofa/lib/python3.9/site-packages/torch/serialization.py\u001b[0m in \u001b[0;36m_open_file_like\u001b[0;34m(name_or_buffer, mode)\u001b[0m\n\u001b[1;32m    228\u001b[0m \u001b[0;32mdef\u001b[0m \u001b[0m_open_file_like\u001b[0m\u001b[0;34m(\u001b[0m\u001b[0mname_or_buffer\u001b[0m\u001b[0;34m,\u001b[0m \u001b[0mmode\u001b[0m\u001b[0;34m)\u001b[0m\u001b[0;34m:\u001b[0m\u001b[0;34m\u001b[0m\u001b[0;34m\u001b[0m\u001b[0m\n\u001b[1;32m    229\u001b[0m     \u001b[0;32mif\u001b[0m \u001b[0m_is_path\u001b[0m\u001b[0;34m(\u001b[0m\u001b[0mname_or_buffer\u001b[0m\u001b[0;34m)\u001b[0m\u001b[0;34m:\u001b[0m\u001b[0;34m\u001b[0m\u001b[0;34m\u001b[0m\u001b[0m\n\u001b[0;32m--> 230\u001b[0;31m         \u001b[0;32mreturn\u001b[0m \u001b[0m_open_file\u001b[0m\u001b[0;34m(\u001b[0m\u001b[0mname_or_buffer\u001b[0m\u001b[0;34m,\u001b[0m \u001b[0mmode\u001b[0m\u001b[0;34m)\u001b[0m\u001b[0;34m\u001b[0m\u001b[0;34m\u001b[0m\u001b[0m\n\u001b[0m\u001b[1;32m    231\u001b[0m     \u001b[0;32melse\u001b[0m\u001b[0;34m:\u001b[0m\u001b[0;34m\u001b[0m\u001b[0;34m\u001b[0m\u001b[0m\n\u001b[1;32m    232\u001b[0m         \u001b[0;32mif\u001b[0m \u001b[0;34m'w'\u001b[0m \u001b[0;32min\u001b[0m \u001b[0mmode\u001b[0m\u001b[0;34m:\u001b[0m\u001b[0;34m\u001b[0m\u001b[0;34m\u001b[0m\u001b[0m\n",
      "\u001b[0;32m~/anaconda3/envs/nlp_ofa/lib/python3.9/site-packages/torch/serialization.py\u001b[0m in \u001b[0;36m__init__\u001b[0;34m(self, name, mode)\u001b[0m\n\u001b[1;32m    209\u001b[0m \u001b[0;32mclass\u001b[0m \u001b[0m_open_file\u001b[0m\u001b[0;34m(\u001b[0m\u001b[0m_opener\u001b[0m\u001b[0;34m)\u001b[0m\u001b[0;34m:\u001b[0m\u001b[0;34m\u001b[0m\u001b[0;34m\u001b[0m\u001b[0m\n\u001b[1;32m    210\u001b[0m     \u001b[0;32mdef\u001b[0m \u001b[0m__init__\u001b[0m\u001b[0;34m(\u001b[0m\u001b[0mself\u001b[0m\u001b[0;34m,\u001b[0m \u001b[0mname\u001b[0m\u001b[0;34m,\u001b[0m \u001b[0mmode\u001b[0m\u001b[0;34m)\u001b[0m\u001b[0;34m:\u001b[0m\u001b[0;34m\u001b[0m\u001b[0;34m\u001b[0m\u001b[0m\n\u001b[0;32m--> 211\u001b[0;31m         \u001b[0msuper\u001b[0m\u001b[0;34m(\u001b[0m\u001b[0m_open_file\u001b[0m\u001b[0;34m,\u001b[0m \u001b[0mself\u001b[0m\u001b[0;34m)\u001b[0m\u001b[0;34m.\u001b[0m\u001b[0m__init__\u001b[0m\u001b[0;34m(\u001b[0m\u001b[0mopen\u001b[0m\u001b[0;34m(\u001b[0m\u001b[0mname\u001b[0m\u001b[0;34m,\u001b[0m \u001b[0mmode\u001b[0m\u001b[0;34m)\u001b[0m\u001b[0;34m)\u001b[0m\u001b[0;34m\u001b[0m\u001b[0;34m\u001b[0m\u001b[0m\n\u001b[0m\u001b[1;32m    212\u001b[0m \u001b[0;34m\u001b[0m\u001b[0m\n\u001b[1;32m    213\u001b[0m     \u001b[0;32mdef\u001b[0m \u001b[0m__exit__\u001b[0m\u001b[0;34m(\u001b[0m\u001b[0mself\u001b[0m\u001b[0;34m,\u001b[0m \u001b[0;34m*\u001b[0m\u001b[0margs\u001b[0m\u001b[0;34m)\u001b[0m\u001b[0;34m:\u001b[0m\u001b[0;34m\u001b[0m\u001b[0;34m\u001b[0m\u001b[0m\n",
      "\u001b[0;31mFileNotFoundError\u001b[0m: [Errno 2] No such file or directory: '/home/ilee300/workspace/nlp_ofa/transformers/notebooks/../data/saved_models/12model.pt'"
     ]
    }
   ],
   "source": [
    "train(model=model, optimizer=optimizer)"
   ]
  },
  {
   "cell_type": "code",
   "execution_count": 73,
   "id": "c06e226a",
   "metadata": {},
   "outputs": [
    {
     "name": "stdout",
     "output_type": "stream",
     "text": [
      "initializing bertforsequenceclassification\n",
      "initializing weights\n"
     ]
    },
    {
     "name": "stderr",
     "output_type": "stream",
     "text": [
      "Some weights of the model checkpoint at bert-base-uncased were not used when initializing BertForSequenceClassification: ['cls.seq_relationship.bias', 'cls.seq_relationship.weight', 'cls.predictions.transform.LayerNorm.weight', 'cls.predictions.transform.LayerNorm.bias', 'cls.predictions.transform.dense.weight', 'cls.predictions.bias', 'cls.predictions.transform.dense.bias', 'cls.predictions.decoder.weight']\n",
      "- This IS expected if you are initializing BertForSequenceClassification from the checkpoint of a model trained on another task or with another architecture (e.g. initializing a BertForSequenceClassification model from a BertForPreTraining model).\n",
      "- This IS NOT expected if you are initializing BertForSequenceClassification from the checkpoint of a model that you expect to be exactly identical (initializing a BertForSequenceClassification model from a BertForSequenceClassification model).\n",
      "Some weights of BertForSequenceClassification were not initialized from the model checkpoint at bert-base-uncased and are newly initialized: ['classifier.weight', 'classifier.bias']\n",
      "You should probably TRAIN this model on a down-stream task to be able to use it for predictions and inference.\n"
     ]
    },
    {
     "name": "stdout",
     "output_type": "stream",
     "text": [
      "Model loaded from <== /home/ilee300/workspace/nlp_ofa/notebooks/../model/12model.pt\n",
      "changing encoder number :  12  =>  12\n",
      "evaluating with max encoder number of  12\n",
      "Classification Report:\n",
      "              precision    recall  f1-score   support\n",
      "\n",
      "           1     0.8645    0.8623    0.8634     12500\n",
      "           0     0.8627    0.8648    0.8637     12500\n",
      "\n",
      "    accuracy                         0.8636     25000\n",
      "   macro avg     0.8636    0.8636    0.8636     25000\n",
      "weighted avg     0.8636    0.8636    0.8636     25000\n",
      "\n"
     ]
    },
    {
     "data": {
      "image/png": "[encoded data removed]",
      "text/plain": [
       "<Figure size 432x288 with 2 Axes>"
      ]
     },
     "metadata": {
      "needs_background": "light"
     },
     "output_type": "display_data"
    }
   ],
   "source": [
    "best_model = BERT().to(device)\n",
    "load_checkpoint(destination_folder +\"/12model.pt\", best_model)\n",
    "\n",
    "acc = evaluate(best_model, test_iter)"
   ]
  },
  {
   "cell_type": "code",
   "execution_count": 86,
   "id": "8a3c7b86",
   "metadata": {
    "scrolled": true
   },
   "outputs": [
    {
     "name": "stdout",
     "output_type": "stream",
     "text": [
      "Model loaded from <== /home/ilee300/workspace/nlp_ofa/notebooks/../model/5metrics.pt\n"
     ]
    },
    {
     "data": {
      "image/png": "[encoded data removed]",
      "text/plain": [
       "<Figure size 432x288 with 1 Axes>"
      ]
     },
     "metadata": {
      "needs_background": "light"
     },
     "output_type": "display_data"
    }
   ],
   "source": [
    "train_loss_list, valid_loss_list, global_steps_list = load_metrics(destination_folder +\"/\"+  '5metrics.pt')\n",
    "plt.plot(global_steps_list, train_loss_list, label='Train')\n",
    "plt.plot(global_steps_list, valid_loss_list, label='Valid')\n",
    "plt.xlabel('Global Steps')\n",
    "plt.ylabel('Loss')\n",
    "plt.legend()\n",
    "plt.show() "
   ]
  },
  {
   "cell_type": "code",
   "execution_count": 89,
   "id": "18df6cd0",
   "metadata": {},
   "outputs": [
    {
     "name": "stdout",
     "output_type": "stream",
     "text": [
      "tensor([1., 1., 1., 1., 0., 1., 1., 0., 0., 1., 0., 1., 1., 0., 1., 0.],\n",
      "       device='cuda:0')\n"
     ]
    }
   ],
   "source": [
    "for (text,sentiment), _ in test_iter:\n",
    "    print(sentiment)\n",
    "    break"
   ]
  },
  {
   "cell_type": "code",
   "execution_count": 92,
   "id": "57f3aecd",
   "metadata": {
    "scrolled": true
   },
   "outputs": [
    {
     "name": "stdout",
     "output_type": "stream",
     "text": [
      "initializing bertforsequenceclassification\n",
      "initializing weights\n"
     ]
    },
    {
     "name": "stderr",
     "output_type": "stream",
     "text": [
      "Some weights of the model checkpoint at bert-base-uncased were not used when initializing BertForSequenceClassification: ['cls.seq_relationship.bias', 'cls.seq_relationship.weight', 'cls.predictions.transform.LayerNorm.weight', 'cls.predictions.transform.LayerNorm.bias', 'cls.predictions.transform.dense.weight', 'cls.predictions.bias', 'cls.predictions.transform.dense.bias', 'cls.predictions.decoder.weight']\n",
      "- This IS expected if you are initializing BertForSequenceClassification from the checkpoint of a model trained on another task or with another architecture (e.g. initializing a BertForSequenceClassification model from a BertForPreTraining model).\n",
      "- This IS NOT expected if you are initializing BertForSequenceClassification from the checkpoint of a model that you expect to be exactly identical (initializing a BertForSequenceClassification model from a BertForSequenceClassification model).\n",
      "Some weights of BertForSequenceClassification were not initialized from the model checkpoint at bert-base-uncased and are newly initialized: ['classifier.weight', 'classifier.bias']\n",
      "You should probably TRAIN this model on a down-stream task to be able to use it for predictions and inference.\n"
     ]
    },
    {
     "name": "stdout",
     "output_type": "stream",
     "text": [
      "/home/ilee300/workspace/nlp_ofa/notebooks/../model/Nonemetrics.pt\n",
      "changing encoder number :  12  =>  12\n",
      "training the model with encoder number of  12\n",
      "Epoch [1/5], Step [625/6250], Train Loss: 0.7383, Valid Loss: 0.7275\n",
      "Model saved to ==> /home/ilee300/workspace/nlp_ofa/notebooks/../model/12model.pt\n",
      "Model saved to ==> /home/ilee300/workspace/nlp_ofa/notebooks/../model/12metrics.pt\n",
      "Epoch [1/5], Step [1250/6250], Train Loss: 0.7247, Valid Loss: 0.7275\n",
      "Epoch [2/5], Step [1875/6250], Train Loss: 0.7392, Valid Loss: 0.7275\n",
      "Epoch [2/5], Step [2500/6250], Train Loss: 0.7246, Valid Loss: 0.7275\n",
      "Epoch [3/5], Step [3125/6250], Train Loss: 0.7376, Valid Loss: 0.7275\n",
      "Epoch [3/5], Step [3750/6250], Train Loss: 0.7245, Valid Loss: 0.7275\n",
      "Epoch [4/5], Step [4375/6250], Train Loss: 0.7385, Valid Loss: 0.7275\n",
      "Epoch [4/5], Step [5000/6250], Train Loss: 0.7246, Valid Loss: 0.7275\n",
      "Epoch [5/5], Step [5625/6250], Train Loss: 0.7395, Valid Loss: 0.7275\n",
      "Epoch [5/5], Step [6250/6250], Train Loss: 0.7250, Valid Loss: 0.7275\n",
      "Model saved to ==> /home/ilee300/workspace/nlp_ofa/notebooks/../model/12metrics.pt\n",
      "Finished Training!\n"
     ]
    }
   ],
   "source": [
    "model = BERT().to(device)\n",
    "\n",
    "train(model=model, optimizer=optimizer)"
   ]
  },
  {
   "cell_type": "code",
   "execution_count": 93,
   "id": "6c27d5fb",
   "metadata": {},
   "outputs": [
    {
     "name": "stdout",
     "output_type": "stream",
     "text": [
      "changing encoder number :  12  =>  12\n",
      "evaluating with max encoder number of  12\n",
      "Classification Report:\n",
      "              precision    recall  f1-score   support\n",
      "\n",
      "           1     0.0000    0.0000    0.0000     10036\n",
      "           0     0.4982    1.0000    0.6651      9964\n",
      "\n",
      "    accuracy                         0.4982     20000\n",
      "   macro avg     0.2491    0.5000    0.3325     20000\n",
      "weighted avg     0.2482    0.4982    0.3313     20000\n",
      "\n"
     ]
    },
    {
     "name": "stderr",
     "output_type": "stream",
     "text": [
      "/nethome/ilee300/anaconda3/envs/nlp_ofa/lib/python3.9/site-packages/sklearn/metrics/_classification.py:1248: UndefinedMetricWarning: Precision and F-score are ill-defined and being set to 0.0 in labels with no predicted samples. Use `zero_division` parameter to control this behavior.\n",
      "  _warn_prf(average, modifier, msg_start, len(result))\n",
      "/nethome/ilee300/anaconda3/envs/nlp_ofa/lib/python3.9/site-packages/sklearn/metrics/_classification.py:1248: UndefinedMetricWarning: Precision and F-score are ill-defined and being set to 0.0 in labels with no predicted samples. Use `zero_division` parameter to control this behavior.\n",
      "  _warn_prf(average, modifier, msg_start, len(result))\n",
      "/nethome/ilee300/anaconda3/envs/nlp_ofa/lib/python3.9/site-packages/sklearn/metrics/_classification.py:1248: UndefinedMetricWarning: Precision and F-score are ill-defined and being set to 0.0 in labels with no predicted samples. Use `zero_division` parameter to control this behavior.\n",
      "  _warn_prf(average, modifier, msg_start, len(result))\n"
     ]
    },
    {
     "data": {
      "image/png": "[encoded data removed]",
      "text/plain": [
       "<Figure size 432x288 with 2 Axes>"
      ]
     },
     "metadata": {
      "needs_background": "light"
     },
     "output_type": "display_data"
    }
   ],
   "source": [
    "acc = evaluate(model, train_iter, )\n"
   ]
  },
  {
   "cell_type": "code",
   "execution_count": null,
   "id": "581f0ac7",
   "metadata": {},
   "outputs": [],
   "source": [
    "acc"
   ]
  },
  {
   "cell_type": "code",
   "execution_count": null,
   "id": "815ead46",
   "metadata": {},
   "outputs": [],
   "source": [
    "best_model = BERT().to(device)\n",
    "load_checkpoint(destination_folder +\"/\"+ str(5)+ 'model.pt', best_model)\n",
    "acc = evaluate(best_model, test_iter, max_encoder_num=j)\n"
   ]
  },
  {
   "cell_type": "code",
   "execution_count": 77,
   "id": "2c5b970e",
   "metadata": {},
   "outputs": [
    {
     "name": "stdout",
     "output_type": "stream",
     "text": [
      "initializing bertforsequenceclassification\n",
      "initializing weights\n"
     ]
    },
    {
     "name": "stderr",
     "output_type": "stream",
     "text": [
      "Some weights of the model checkpoint at bert-base-uncased were not used when initializing BertForSequenceClassification: ['cls.seq_relationship.bias', 'cls.seq_relationship.weight', 'cls.predictions.transform.LayerNorm.weight', 'cls.predictions.transform.LayerNorm.bias', 'cls.predictions.transform.dense.weight', 'cls.predictions.bias', 'cls.predictions.transform.dense.bias', 'cls.predictions.decoder.weight']\n",
      "- This IS expected if you are initializing BertForSequenceClassification from the checkpoint of a model trained on another task or with another architecture (e.g. initializing a BertForSequenceClassification model from a BertForPreTraining model).\n",
      "- This IS NOT expected if you are initializing BertForSequenceClassification from the checkpoint of a model that you expect to be exactly identical (initializing a BertForSequenceClassification model from a BertForSequenceClassification model).\n",
      "Some weights of BertForSequenceClassification were not initialized from the model checkpoint at bert-base-uncased and are newly initialized: ['classifier.weight', 'classifier.bias']\n",
      "You should probably TRAIN this model on a down-stream task to be able to use it for predictions and inference.\n"
     ]
    },
    {
     "name": "stdout",
     "output_type": "stream",
     "text": [
      "\n",
      "\n",
      "****starting with layer number of  5 ****\n",
      "/home/ilee300/workspace/nlp_ofa/notebooks/../model/5metrics.pt\n",
      "changing encoder number :  12  =>  5\n",
      "training the model with encoder number of  5\n",
      "Epoch [1/5], Step [625/6250], Train Loss: 0.8440, Valid Loss: 0.8250\n",
      "Model saved to ==> /home/ilee300/workspace/nlp_ofa/notebooks/../model/5model.pt\n",
      "Model saved to ==> /home/ilee300/workspace/nlp_ofa/notebooks/../model/5metrics.pt\n",
      "Epoch [1/5], Step [1250/6250], Train Loss: 0.8309, Valid Loss: 0.8250\n",
      "Epoch [2/5], Step [1875/6250], Train Loss: 0.8434, Valid Loss: 0.8250\n",
      "Epoch [2/5], Step [2500/6250], Train Loss: 0.8306, Valid Loss: 0.8250\n",
      "Epoch [3/5], Step [3125/6250], Train Loss: 0.8440, Valid Loss: 0.8250\n",
      "Epoch [3/5], Step [3750/6250], Train Loss: 0.8304, Valid Loss: 0.8250\n",
      "Epoch [4/5], Step [4375/6250], Train Loss: 0.8429, Valid Loss: 0.8250\n",
      "Epoch [4/5], Step [5000/6250], Train Loss: 0.8301, Valid Loss: 0.8250\n",
      "Epoch [5/5], Step [5625/6250], Train Loss: 0.8443, Valid Loss: 0.8250\n",
      "Epoch [5/5], Step [6250/6250], Train Loss: 0.8286, Valid Loss: 0.8250\n",
      "Model saved to ==> /home/ilee300/workspace/nlp_ofa/notebooks/../model/5metrics.pt\n",
      "Finished Training!\n",
      "initializing bertforsequenceclassification\n",
      "initializing weights\n"
     ]
    },
    {
     "name": "stderr",
     "output_type": "stream",
     "text": [
      "Some weights of the model checkpoint at bert-base-uncased were not used when initializing BertForSequenceClassification: ['cls.seq_relationship.bias', 'cls.seq_relationship.weight', 'cls.predictions.transform.LayerNorm.weight', 'cls.predictions.transform.LayerNorm.bias', 'cls.predictions.transform.dense.weight', 'cls.predictions.bias', 'cls.predictions.transform.dense.bias', 'cls.predictions.decoder.weight']\n",
      "- This IS expected if you are initializing BertForSequenceClassification from the checkpoint of a model trained on another task or with another architecture (e.g. initializing a BertForSequenceClassification model from a BertForPreTraining model).\n",
      "- This IS NOT expected if you are initializing BertForSequenceClassification from the checkpoint of a model that you expect to be exactly identical (initializing a BertForSequenceClassification model from a BertForSequenceClassification model).\n",
      "Some weights of BertForSequenceClassification were not initialized from the model checkpoint at bert-base-uncased and are newly initialized: ['classifier.weight', 'classifier.bias']\n",
      "You should probably TRAIN this model on a down-stream task to be able to use it for predictions and inference.\n"
     ]
    },
    {
     "name": "stdout",
     "output_type": "stream",
     "text": [
      "loading model trained with 5 number of layers\n",
      "Model loaded from <== /home/ilee300/workspace/nlp_ofa/notebooks/../model/5model.pt\n",
      "changing encoder number :  12  =>  5\n",
      "evaluating with max encoder number of  5\n",
      "Classification Report:\n",
      "              precision    recall  f1-score   support\n",
      "\n",
      "           1     0.0000    0.0000    0.0000     12500\n",
      "           0     0.5000    1.0000    0.6667     12500\n",
      "\n",
      "    accuracy                         0.5000     25000\n",
      "   macro avg     0.2500    0.5000    0.3333     25000\n",
      "weighted avg     0.2500    0.5000    0.3333     25000\n",
      "\n",
      "accuracy when using  5  layers 0.5\n",
      "changing encoder number :  12  =>  6\n",
      "evaluating with max encoder number of  6\n"
     ]
    },
    {
     "name": "stderr",
     "output_type": "stream",
     "text": [
      "/nethome/ilee300/anaconda3/envs/nlp_ofa/lib/python3.9/site-packages/sklearn/metrics/_classification.py:1248: UndefinedMetricWarning: Precision and F-score are ill-defined and being set to 0.0 in labels with no predicted samples. Use `zero_division` parameter to control this behavior.\n",
      "  _warn_prf(average, modifier, msg_start, len(result))\n",
      "/nethome/ilee300/anaconda3/envs/nlp_ofa/lib/python3.9/site-packages/sklearn/metrics/_classification.py:1248: UndefinedMetricWarning: Precision and F-score are ill-defined and being set to 0.0 in labels with no predicted samples. Use `zero_division` parameter to control this behavior.\n",
      "  _warn_prf(average, modifier, msg_start, len(result))\n",
      "/nethome/ilee300/anaconda3/envs/nlp_ofa/lib/python3.9/site-packages/sklearn/metrics/_classification.py:1248: UndefinedMetricWarning: Precision and F-score are ill-defined and being set to 0.0 in labels with no predicted samples. Use `zero_division` parameter to control this behavior.\n",
      "  _warn_prf(average, modifier, msg_start, len(result))\n"
     ]
    },
    {
     "name": "stdout",
     "output_type": "stream",
     "text": [
      "Classification Report:\n",
      "              precision    recall  f1-score   support\n",
      "\n",
      "           1     0.0000    0.0000    0.0000     12500\n",
      "           0     0.5000    1.0000    0.6667     12500\n",
      "\n",
      "    accuracy                         0.5000     25000\n",
      "   macro avg     0.2500    0.5000    0.3333     25000\n",
      "weighted avg     0.2500    0.5000    0.3333     25000\n",
      "\n",
      "accuracy when using  6  layers 0.5\n",
      "changing encoder number :  12  =>  7\n",
      "evaluating with max encoder number of  7\n"
     ]
    },
    {
     "name": "stderr",
     "output_type": "stream",
     "text": [
      "/nethome/ilee300/anaconda3/envs/nlp_ofa/lib/python3.9/site-packages/sklearn/metrics/_classification.py:1248: UndefinedMetricWarning: Precision and F-score are ill-defined and being set to 0.0 in labels with no predicted samples. Use `zero_division` parameter to control this behavior.\n",
      "  _warn_prf(average, modifier, msg_start, len(result))\n",
      "/nethome/ilee300/anaconda3/envs/nlp_ofa/lib/python3.9/site-packages/sklearn/metrics/_classification.py:1248: UndefinedMetricWarning: Precision and F-score are ill-defined and being set to 0.0 in labels with no predicted samples. Use `zero_division` parameter to control this behavior.\n",
      "  _warn_prf(average, modifier, msg_start, len(result))\n",
      "/nethome/ilee300/anaconda3/envs/nlp_ofa/lib/python3.9/site-packages/sklearn/metrics/_classification.py:1248: UndefinedMetricWarning: Precision and F-score are ill-defined and being set to 0.0 in labels with no predicted samples. Use `zero_division` parameter to control this behavior.\n",
      "  _warn_prf(average, modifier, msg_start, len(result))\n"
     ]
    },
    {
     "ename": "KeyboardInterrupt",
     "evalue": "",
     "output_type": "error",
     "traceback": [
      "\u001b[0;31m---------------------------------------------------------------------------\u001b[0m",
      "\u001b[0;31mKeyboardInterrupt\u001b[0m                         Traceback (most recent call last)",
      "\u001b[0;32m/tmp/ipykernel_20126/159749044.py\u001b[0m in \u001b[0;36m<module>\u001b[0;34m\u001b[0m\n\u001b[1;32m     10\u001b[0m     \u001b[0mload_checkpoint\u001b[0m\u001b[0;34m(\u001b[0m\u001b[0mdestination_folder\u001b[0m \u001b[0;34m+\u001b[0m\u001b[0;34m\"/\"\u001b[0m\u001b[0;34m+\u001b[0m \u001b[0mstr\u001b[0m\u001b[0;34m(\u001b[0m\u001b[0mi\u001b[0m\u001b[0;34m)\u001b[0m\u001b[0;34m+\u001b[0m \u001b[0;34m'model.pt'\u001b[0m\u001b[0;34m,\u001b[0m \u001b[0mbest_model\u001b[0m\u001b[0;34m)\u001b[0m\u001b[0;34m\u001b[0m\u001b[0;34m\u001b[0m\u001b[0m\n\u001b[1;32m     11\u001b[0m     \u001b[0;32mfor\u001b[0m \u001b[0mj\u001b[0m \u001b[0;32min\u001b[0m \u001b[0mrange\u001b[0m\u001b[0;34m(\u001b[0m\u001b[0;36m5\u001b[0m\u001b[0;34m,\u001b[0m\u001b[0;36m13\u001b[0m\u001b[0;34m)\u001b[0m\u001b[0;34m:\u001b[0m\u001b[0;34m\u001b[0m\u001b[0;34m\u001b[0m\u001b[0m\n\u001b[0;32m---> 12\u001b[0;31m         \u001b[0macc\u001b[0m \u001b[0;34m=\u001b[0m \u001b[0mevaluate\u001b[0m\u001b[0;34m(\u001b[0m\u001b[0mbest_model\u001b[0m\u001b[0;34m,\u001b[0m \u001b[0mtest_iter\u001b[0m\u001b[0;34m,\u001b[0m \u001b[0mmax_encoder_num\u001b[0m\u001b[0;34m=\u001b[0m\u001b[0mj\u001b[0m\u001b[0;34m)\u001b[0m\u001b[0;34m\u001b[0m\u001b[0;34m\u001b[0m\u001b[0m\n\u001b[0m\u001b[1;32m     13\u001b[0m \u001b[0;31m#         acc_dict[(i,j)] = acc\u001b[0m\u001b[0;34m\u001b[0m\u001b[0;34m\u001b[0m\u001b[0;34m\u001b[0m\u001b[0m\n\u001b[1;32m     14\u001b[0m \u001b[0;31m#         array[i-5][j-5] = acc_dict[(i,j)]\u001b[0m\u001b[0;34m\u001b[0m\u001b[0;34m\u001b[0m\u001b[0;34m\u001b[0m\u001b[0m\n",
      "\u001b[0;32m/tmp/ipykernel_20126/2583688626.py\u001b[0m in \u001b[0;36mevaluate\u001b[0;34m(model, test_loader, max_encoder_num)\u001b[0m\n\u001b[1;32m     19\u001b[0m                 \u001b[0msentiment\u001b[0m \u001b[0;34m=\u001b[0m \u001b[0msentiment\u001b[0m\u001b[0;34m.\u001b[0m\u001b[0mtype\u001b[0m\u001b[0;34m(\u001b[0m\u001b[0mtorch\u001b[0m\u001b[0;34m.\u001b[0m\u001b[0mLongTensor\u001b[0m\u001b[0;34m)\u001b[0m\u001b[0;34m\u001b[0m\u001b[0;34m\u001b[0m\u001b[0m\n\u001b[1;32m     20\u001b[0m                 \u001b[0msentiment\u001b[0m \u001b[0;34m=\u001b[0m \u001b[0msentiment\u001b[0m\u001b[0;34m.\u001b[0m\u001b[0mto\u001b[0m\u001b[0;34m(\u001b[0m\u001b[0mdevice\u001b[0m\u001b[0;34m)\u001b[0m\u001b[0;34m\u001b[0m\u001b[0;34m\u001b[0m\u001b[0m\n\u001b[0;32m---> 21\u001b[0;31m                 \u001b[0moutput\u001b[0m \u001b[0;34m=\u001b[0m \u001b[0mmodel\u001b[0m\u001b[0;34m(\u001b[0m\u001b[0mtext\u001b[0m\u001b[0;34m,\u001b[0m \u001b[0msentiment\u001b[0m\u001b[0;34m)\u001b[0m\u001b[0;34m\u001b[0m\u001b[0;34m\u001b[0m\u001b[0m\n\u001b[0m\u001b[1;32m     22\u001b[0m \u001b[0;34m\u001b[0m\u001b[0m\n\u001b[1;32m     23\u001b[0m                 \u001b[0m_\u001b[0m\u001b[0;34m,\u001b[0m \u001b[0moutput\u001b[0m \u001b[0;34m=\u001b[0m \u001b[0moutput\u001b[0m\u001b[0;34m\u001b[0m\u001b[0;34m\u001b[0m\u001b[0m\n",
      "\u001b[0;32m~/anaconda3/envs/nlp_ofa/lib/python3.9/site-packages/torch/nn/modules/module.py\u001b[0m in \u001b[0;36m_call_impl\u001b[0;34m(self, *input, **kwargs)\u001b[0m\n\u001b[1;32m   1049\u001b[0m         if not (self._backward_hooks or self._forward_hooks or self._forward_pre_hooks or _global_backward_hooks\n\u001b[1;32m   1050\u001b[0m                 or _global_forward_hooks or _global_forward_pre_hooks):\n\u001b[0;32m-> 1051\u001b[0;31m             \u001b[0;32mreturn\u001b[0m \u001b[0mforward_call\u001b[0m\u001b[0;34m(\u001b[0m\u001b[0;34m*\u001b[0m\u001b[0minput\u001b[0m\u001b[0;34m,\u001b[0m \u001b[0;34m**\u001b[0m\u001b[0mkwargs\u001b[0m\u001b[0;34m)\u001b[0m\u001b[0;34m\u001b[0m\u001b[0;34m\u001b[0m\u001b[0m\n\u001b[0m\u001b[1;32m   1052\u001b[0m         \u001b[0;31m# Do not call functions when jit is used\u001b[0m\u001b[0;34m\u001b[0m\u001b[0;34m\u001b[0m\u001b[0;34m\u001b[0m\u001b[0m\n\u001b[1;32m   1053\u001b[0m         \u001b[0mfull_backward_hooks\u001b[0m\u001b[0;34m,\u001b[0m \u001b[0mnon_full_backward_hooks\u001b[0m \u001b[0;34m=\u001b[0m \u001b[0;34m[\u001b[0m\u001b[0;34m]\u001b[0m\u001b[0;34m,\u001b[0m \u001b[0;34m[\u001b[0m\u001b[0;34m]\u001b[0m\u001b[0;34m\u001b[0m\u001b[0;34m\u001b[0m\u001b[0m\n",
      "\u001b[0;32m/tmp/ipykernel_20126/510466673.py\u001b[0m in \u001b[0;36mforward\u001b[0;34m(self, text, label)\u001b[0m\n\u001b[1;32m      8\u001b[0m \u001b[0;34m\u001b[0m\u001b[0m\n\u001b[1;32m      9\u001b[0m     \u001b[0;32mdef\u001b[0m \u001b[0mforward\u001b[0m\u001b[0;34m(\u001b[0m\u001b[0mself\u001b[0m\u001b[0;34m,\u001b[0m \u001b[0mtext\u001b[0m\u001b[0;34m,\u001b[0m \u001b[0mlabel\u001b[0m\u001b[0;34m)\u001b[0m\u001b[0;34m:\u001b[0m\u001b[0;34m\u001b[0m\u001b[0;34m\u001b[0m\u001b[0m\n\u001b[0;32m---> 10\u001b[0;31m         \u001b[0mloss\u001b[0m\u001b[0;34m,\u001b[0m \u001b[0mtext_fea\u001b[0m \u001b[0;34m=\u001b[0m \u001b[0mself\u001b[0m\u001b[0;34m.\u001b[0m\u001b[0mencoder\u001b[0m\u001b[0;34m(\u001b[0m\u001b[0mtext\u001b[0m\u001b[0;34m,\u001b[0m \u001b[0mlabels\u001b[0m\u001b[0;34m=\u001b[0m\u001b[0mlabel\u001b[0m\u001b[0;34m)\u001b[0m\u001b[0;34m[\u001b[0m\u001b[0;34m:\u001b[0m\u001b[0;36m2\u001b[0m\u001b[0;34m]\u001b[0m\u001b[0;34m\u001b[0m\u001b[0;34m\u001b[0m\u001b[0m\n\u001b[0m\u001b[1;32m     11\u001b[0m \u001b[0;34m\u001b[0m\u001b[0m\n\u001b[1;32m     12\u001b[0m         \u001b[0;32mreturn\u001b[0m \u001b[0mloss\u001b[0m\u001b[0;34m,\u001b[0m \u001b[0mtext_fea\u001b[0m\u001b[0;34m\u001b[0m\u001b[0;34m\u001b[0m\u001b[0m\n",
      "\u001b[0;32m~/anaconda3/envs/nlp_ofa/lib/python3.9/site-packages/torch/nn/modules/module.py\u001b[0m in \u001b[0;36m_call_impl\u001b[0;34m(self, *input, **kwargs)\u001b[0m\n\u001b[1;32m   1049\u001b[0m         if not (self._backward_hooks or self._forward_hooks or self._forward_pre_hooks or _global_backward_hooks\n\u001b[1;32m   1050\u001b[0m                 or _global_forward_hooks or _global_forward_pre_hooks):\n\u001b[0;32m-> 1051\u001b[0;31m             \u001b[0;32mreturn\u001b[0m \u001b[0mforward_call\u001b[0m\u001b[0;34m(\u001b[0m\u001b[0;34m*\u001b[0m\u001b[0minput\u001b[0m\u001b[0;34m,\u001b[0m \u001b[0;34m**\u001b[0m\u001b[0mkwargs\u001b[0m\u001b[0;34m)\u001b[0m\u001b[0;34m\u001b[0m\u001b[0;34m\u001b[0m\u001b[0m\n\u001b[0m\u001b[1;32m   1052\u001b[0m         \u001b[0;31m# Do not call functions when jit is used\u001b[0m\u001b[0;34m\u001b[0m\u001b[0;34m\u001b[0m\u001b[0;34m\u001b[0m\u001b[0m\n\u001b[1;32m   1053\u001b[0m         \u001b[0mfull_backward_hooks\u001b[0m\u001b[0;34m,\u001b[0m \u001b[0mnon_full_backward_hooks\u001b[0m \u001b[0;34m=\u001b[0m \u001b[0;34m[\u001b[0m\u001b[0;34m]\u001b[0m\u001b[0;34m,\u001b[0m \u001b[0;34m[\u001b[0m\u001b[0;34m]\u001b[0m\u001b[0;34m\u001b[0m\u001b[0;34m\u001b[0m\u001b[0m\n",
      "\u001b[0;32m/home/ilee300/workspace/nlp_ofa/transformers/src/transformers/models/bert/modeling_bert.py\u001b[0m in \u001b[0;36mforward\u001b[0;34m(self, input_ids, attention_mask, token_type_ids, position_ids, head_mask, inputs_embeds, labels, output_attentions, output_hidden_states, return_dict)\u001b[0m\n\u001b[1;32m   1542\u001b[0m         \u001b[0mreturn_dict\u001b[0m \u001b[0;34m=\u001b[0m \u001b[0mreturn_dict\u001b[0m \u001b[0;32mif\u001b[0m \u001b[0mreturn_dict\u001b[0m \u001b[0;32mis\u001b[0m \u001b[0;32mnot\u001b[0m \u001b[0;32mNone\u001b[0m \u001b[0;32melse\u001b[0m \u001b[0mself\u001b[0m\u001b[0;34m.\u001b[0m\u001b[0mconfig\u001b[0m\u001b[0;34m.\u001b[0m\u001b[0muse_return_dict\u001b[0m\u001b[0;34m\u001b[0m\u001b[0;34m\u001b[0m\u001b[0m\n\u001b[1;32m   1543\u001b[0m \u001b[0;34m\u001b[0m\u001b[0m\n\u001b[0;32m-> 1544\u001b[0;31m         outputs = self.bert(\n\u001b[0m\u001b[1;32m   1545\u001b[0m             \u001b[0minput_ids\u001b[0m\u001b[0;34m,\u001b[0m\u001b[0;34m\u001b[0m\u001b[0;34m\u001b[0m\u001b[0m\n\u001b[1;32m   1546\u001b[0m             \u001b[0mattention_mask\u001b[0m\u001b[0;34m=\u001b[0m\u001b[0mattention_mask\u001b[0m\u001b[0;34m,\u001b[0m\u001b[0;34m\u001b[0m\u001b[0;34m\u001b[0m\u001b[0m\n",
      "\u001b[0;32m~/anaconda3/envs/nlp_ofa/lib/python3.9/site-packages/torch/nn/modules/module.py\u001b[0m in \u001b[0;36m_call_impl\u001b[0;34m(self, *input, **kwargs)\u001b[0m\n\u001b[1;32m   1049\u001b[0m         if not (self._backward_hooks or self._forward_hooks or self._forward_pre_hooks or _global_backward_hooks\n\u001b[1;32m   1050\u001b[0m                 or _global_forward_hooks or _global_forward_pre_hooks):\n\u001b[0;32m-> 1051\u001b[0;31m             \u001b[0;32mreturn\u001b[0m \u001b[0mforward_call\u001b[0m\u001b[0;34m(\u001b[0m\u001b[0;34m*\u001b[0m\u001b[0minput\u001b[0m\u001b[0;34m,\u001b[0m \u001b[0;34m**\u001b[0m\u001b[0mkwargs\u001b[0m\u001b[0;34m)\u001b[0m\u001b[0;34m\u001b[0m\u001b[0;34m\u001b[0m\u001b[0m\n\u001b[0m\u001b[1;32m   1052\u001b[0m         \u001b[0;31m# Do not call functions when jit is used\u001b[0m\u001b[0;34m\u001b[0m\u001b[0;34m\u001b[0m\u001b[0;34m\u001b[0m\u001b[0m\n\u001b[1;32m   1053\u001b[0m         \u001b[0mfull_backward_hooks\u001b[0m\u001b[0;34m,\u001b[0m \u001b[0mnon_full_backward_hooks\u001b[0m \u001b[0;34m=\u001b[0m \u001b[0;34m[\u001b[0m\u001b[0;34m]\u001b[0m\u001b[0;34m,\u001b[0m \u001b[0;34m[\u001b[0m\u001b[0;34m]\u001b[0m\u001b[0;34m\u001b[0m\u001b[0;34m\u001b[0m\u001b[0m\n",
      "\u001b[0;32m/home/ilee300/workspace/nlp_ofa/transformers/src/transformers/models/bert/modeling_bert.py\u001b[0m in \u001b[0;36mforward\u001b[0;34m(self, input_ids, attention_mask, token_type_ids, position_ids, head_mask, inputs_embeds, encoder_hidden_states, encoder_attention_mask, past_key_values, use_cache, output_attentions, output_hidden_states, return_dict)\u001b[0m\n\u001b[1;32m   1003\u001b[0m             \u001b[0mpast_key_values_length\u001b[0m\u001b[0;34m=\u001b[0m\u001b[0mpast_key_values_length\u001b[0m\u001b[0;34m,\u001b[0m\u001b[0;34m\u001b[0m\u001b[0;34m\u001b[0m\u001b[0m\n\u001b[1;32m   1004\u001b[0m         )\n\u001b[0;32m-> 1005\u001b[0;31m         encoder_outputs = self.encoder(\n\u001b[0m\u001b[1;32m   1006\u001b[0m             \u001b[0membedding_output\u001b[0m\u001b[0;34m,\u001b[0m\u001b[0;34m\u001b[0m\u001b[0;34m\u001b[0m\u001b[0m\n\u001b[1;32m   1007\u001b[0m             \u001b[0mattention_mask\u001b[0m\u001b[0;34m=\u001b[0m\u001b[0mextended_attention_mask\u001b[0m\u001b[0;34m,\u001b[0m\u001b[0;34m\u001b[0m\u001b[0;34m\u001b[0m\u001b[0m\n",
      "\u001b[0;32m~/anaconda3/envs/nlp_ofa/lib/python3.9/site-packages/torch/nn/modules/module.py\u001b[0m in \u001b[0;36m_call_impl\u001b[0;34m(self, *input, **kwargs)\u001b[0m\n\u001b[1;32m   1049\u001b[0m         if not (self._backward_hooks or self._forward_hooks or self._forward_pre_hooks or _global_backward_hooks\n\u001b[1;32m   1050\u001b[0m                 or _global_forward_hooks or _global_forward_pre_hooks):\n\u001b[0;32m-> 1051\u001b[0;31m             \u001b[0;32mreturn\u001b[0m \u001b[0mforward_call\u001b[0m\u001b[0;34m(\u001b[0m\u001b[0;34m*\u001b[0m\u001b[0minput\u001b[0m\u001b[0;34m,\u001b[0m \u001b[0;34m**\u001b[0m\u001b[0mkwargs\u001b[0m\u001b[0;34m)\u001b[0m\u001b[0;34m\u001b[0m\u001b[0;34m\u001b[0m\u001b[0m\n\u001b[0m\u001b[1;32m   1052\u001b[0m         \u001b[0;31m# Do not call functions when jit is used\u001b[0m\u001b[0;34m\u001b[0m\u001b[0;34m\u001b[0m\u001b[0;34m\u001b[0m\u001b[0m\n\u001b[1;32m   1053\u001b[0m         \u001b[0mfull_backward_hooks\u001b[0m\u001b[0;34m,\u001b[0m \u001b[0mnon_full_backward_hooks\u001b[0m \u001b[0;34m=\u001b[0m \u001b[0;34m[\u001b[0m\u001b[0;34m]\u001b[0m\u001b[0;34m,\u001b[0m \u001b[0;34m[\u001b[0m\u001b[0;34m]\u001b[0m\u001b[0;34m\u001b[0m\u001b[0;34m\u001b[0m\u001b[0m\n",
      "\u001b[0;32m/home/ilee300/workspace/nlp_ofa/transformers/src/transformers/models/bert/modeling_bert.py\u001b[0m in \u001b[0;36mforward\u001b[0;34m(self, hidden_states, attention_mask, head_mask, encoder_hidden_states, encoder_attention_mask, past_key_values, use_cache, output_attentions, output_hidden_states, return_dict)\u001b[0m\n\u001b[1;32m    586\u001b[0m                 )\n\u001b[1;32m    587\u001b[0m             \u001b[0;32melse\u001b[0m\u001b[0;34m:\u001b[0m\u001b[0;34m\u001b[0m\u001b[0;34m\u001b[0m\u001b[0m\n\u001b[0;32m--> 588\u001b[0;31m                 layer_outputs = layer_module(\n\u001b[0m\u001b[1;32m    589\u001b[0m                     \u001b[0mhidden_states\u001b[0m\u001b[0;34m,\u001b[0m\u001b[0;34m\u001b[0m\u001b[0;34m\u001b[0m\u001b[0m\n\u001b[1;32m    590\u001b[0m                     \u001b[0mattention_mask\u001b[0m\u001b[0;34m,\u001b[0m\u001b[0;34m\u001b[0m\u001b[0;34m\u001b[0m\u001b[0m\n",
      "\u001b[0;32m~/anaconda3/envs/nlp_ofa/lib/python3.9/site-packages/torch/nn/modules/module.py\u001b[0m in \u001b[0;36m_call_impl\u001b[0;34m(self, *input, **kwargs)\u001b[0m\n\u001b[1;32m   1049\u001b[0m         if not (self._backward_hooks or self._forward_hooks or self._forward_pre_hooks or _global_backward_hooks\n\u001b[1;32m   1050\u001b[0m                 or _global_forward_hooks or _global_forward_pre_hooks):\n\u001b[0;32m-> 1051\u001b[0;31m             \u001b[0;32mreturn\u001b[0m \u001b[0mforward_call\u001b[0m\u001b[0;34m(\u001b[0m\u001b[0;34m*\u001b[0m\u001b[0minput\u001b[0m\u001b[0;34m,\u001b[0m \u001b[0;34m**\u001b[0m\u001b[0mkwargs\u001b[0m\u001b[0;34m)\u001b[0m\u001b[0;34m\u001b[0m\u001b[0;34m\u001b[0m\u001b[0m\n\u001b[0m\u001b[1;32m   1052\u001b[0m         \u001b[0;31m# Do not call functions when jit is used\u001b[0m\u001b[0;34m\u001b[0m\u001b[0;34m\u001b[0m\u001b[0;34m\u001b[0m\u001b[0m\n\u001b[1;32m   1053\u001b[0m         \u001b[0mfull_backward_hooks\u001b[0m\u001b[0;34m,\u001b[0m \u001b[0mnon_full_backward_hooks\u001b[0m \u001b[0;34m=\u001b[0m \u001b[0;34m[\u001b[0m\u001b[0;34m]\u001b[0m\u001b[0;34m,\u001b[0m \u001b[0;34m[\u001b[0m\u001b[0;34m]\u001b[0m\u001b[0;34m\u001b[0m\u001b[0;34m\u001b[0m\u001b[0m\n",
      "\u001b[0;32m/home/ilee300/workspace/nlp_ofa/transformers/src/transformers/models/bert/modeling_bert.py\u001b[0m in \u001b[0;36mforward\u001b[0;34m(self, hidden_states, attention_mask, head_mask, encoder_hidden_states, encoder_attention_mask, past_key_value, output_attentions)\u001b[0m\n\u001b[1;32m    468\u001b[0m         \u001b[0;31m# decoder uni-directional self-attention cached key/values tuple is at positions 1,2\u001b[0m\u001b[0;34m\u001b[0m\u001b[0;34m\u001b[0m\u001b[0;34m\u001b[0m\u001b[0m\n\u001b[1;32m    469\u001b[0m         \u001b[0mself_attn_past_key_value\u001b[0m \u001b[0;34m=\u001b[0m \u001b[0mpast_key_value\u001b[0m\u001b[0;34m[\u001b[0m\u001b[0;34m:\u001b[0m\u001b[0;36m2\u001b[0m\u001b[0;34m]\u001b[0m \u001b[0;32mif\u001b[0m \u001b[0mpast_key_value\u001b[0m \u001b[0;32mis\u001b[0m \u001b[0;32mnot\u001b[0m \u001b[0;32mNone\u001b[0m \u001b[0;32melse\u001b[0m \u001b[0;32mNone\u001b[0m\u001b[0;34m\u001b[0m\u001b[0;34m\u001b[0m\u001b[0m\n\u001b[0;32m--> 470\u001b[0;31m         self_attention_outputs = self.attention(\n\u001b[0m\u001b[1;32m    471\u001b[0m             \u001b[0mhidden_states\u001b[0m\u001b[0;34m,\u001b[0m\u001b[0;34m\u001b[0m\u001b[0;34m\u001b[0m\u001b[0m\n\u001b[1;32m    472\u001b[0m             \u001b[0mattention_mask\u001b[0m\u001b[0;34m,\u001b[0m\u001b[0;34m\u001b[0m\u001b[0;34m\u001b[0m\u001b[0m\n",
      "\u001b[0;32m~/anaconda3/envs/nlp_ofa/lib/python3.9/site-packages/torch/nn/modules/module.py\u001b[0m in \u001b[0;36m_call_impl\u001b[0;34m(self, *input, **kwargs)\u001b[0m\n\u001b[1;32m   1049\u001b[0m         if not (self._backward_hooks or self._forward_hooks or self._forward_pre_hooks or _global_backward_hooks\n\u001b[1;32m   1050\u001b[0m                 or _global_forward_hooks or _global_forward_pre_hooks):\n\u001b[0;32m-> 1051\u001b[0;31m             \u001b[0;32mreturn\u001b[0m \u001b[0mforward_call\u001b[0m\u001b[0;34m(\u001b[0m\u001b[0;34m*\u001b[0m\u001b[0minput\u001b[0m\u001b[0;34m,\u001b[0m \u001b[0;34m**\u001b[0m\u001b[0mkwargs\u001b[0m\u001b[0;34m)\u001b[0m\u001b[0;34m\u001b[0m\u001b[0;34m\u001b[0m\u001b[0m\n\u001b[0m\u001b[1;32m   1052\u001b[0m         \u001b[0;31m# Do not call functions when jit is used\u001b[0m\u001b[0;34m\u001b[0m\u001b[0;34m\u001b[0m\u001b[0;34m\u001b[0m\u001b[0m\n\u001b[1;32m   1053\u001b[0m         \u001b[0mfull_backward_hooks\u001b[0m\u001b[0;34m,\u001b[0m \u001b[0mnon_full_backward_hooks\u001b[0m \u001b[0;34m=\u001b[0m \u001b[0;34m[\u001b[0m\u001b[0;34m]\u001b[0m\u001b[0;34m,\u001b[0m \u001b[0;34m[\u001b[0m\u001b[0;34m]\u001b[0m\u001b[0;34m\u001b[0m\u001b[0;34m\u001b[0m\u001b[0m\n",
      "\u001b[0;32m/home/ilee300/workspace/nlp_ofa/transformers/src/transformers/models/bert/modeling_bert.py\u001b[0m in \u001b[0;36mforward\u001b[0;34m(self, hidden_states, attention_mask, head_mask, encoder_hidden_states, encoder_attention_mask, past_key_value, output_attentions)\u001b[0m\n\u001b[1;32m    399\u001b[0m         \u001b[0moutput_attentions\u001b[0m\u001b[0;34m=\u001b[0m\u001b[0;32mFalse\u001b[0m\u001b[0;34m,\u001b[0m\u001b[0;34m\u001b[0m\u001b[0;34m\u001b[0m\u001b[0m\n\u001b[1;32m    400\u001b[0m     ):\n\u001b[0;32m--> 401\u001b[0;31m         self_outputs = self.self(\n\u001b[0m\u001b[1;32m    402\u001b[0m             \u001b[0mhidden_states\u001b[0m\u001b[0;34m,\u001b[0m\u001b[0;34m\u001b[0m\u001b[0;34m\u001b[0m\u001b[0m\n\u001b[1;32m    403\u001b[0m             \u001b[0mattention_mask\u001b[0m\u001b[0;34m,\u001b[0m\u001b[0;34m\u001b[0m\u001b[0;34m\u001b[0m\u001b[0m\n",
      "\u001b[0;32m~/anaconda3/envs/nlp_ofa/lib/python3.9/site-packages/torch/nn/modules/module.py\u001b[0m in \u001b[0;36m_call_impl\u001b[0;34m(self, *input, **kwargs)\u001b[0m\n\u001b[1;32m   1049\u001b[0m         if not (self._backward_hooks or self._forward_hooks or self._forward_pre_hooks or _global_backward_hooks\n\u001b[1;32m   1050\u001b[0m                 or _global_forward_hooks or _global_forward_pre_hooks):\n\u001b[0;32m-> 1051\u001b[0;31m             \u001b[0;32mreturn\u001b[0m \u001b[0mforward_call\u001b[0m\u001b[0;34m(\u001b[0m\u001b[0;34m*\u001b[0m\u001b[0minput\u001b[0m\u001b[0;34m,\u001b[0m \u001b[0;34m**\u001b[0m\u001b[0mkwargs\u001b[0m\u001b[0;34m)\u001b[0m\u001b[0;34m\u001b[0m\u001b[0;34m\u001b[0m\u001b[0m\n\u001b[0m\u001b[1;32m   1052\u001b[0m         \u001b[0;31m# Do not call functions when jit is used\u001b[0m\u001b[0;34m\u001b[0m\u001b[0;34m\u001b[0m\u001b[0;34m\u001b[0m\u001b[0m\n\u001b[1;32m   1053\u001b[0m         \u001b[0mfull_backward_hooks\u001b[0m\u001b[0;34m,\u001b[0m \u001b[0mnon_full_backward_hooks\u001b[0m \u001b[0;34m=\u001b[0m \u001b[0;34m[\u001b[0m\u001b[0;34m]\u001b[0m\u001b[0;34m,\u001b[0m \u001b[0;34m[\u001b[0m\u001b[0;34m]\u001b[0m\u001b[0;34m\u001b[0m\u001b[0;34m\u001b[0m\u001b[0m\n",
      "\u001b[0;32m/home/ilee300/workspace/nlp_ofa/transformers/src/transformers/models/bert/modeling_bert.py\u001b[0m in \u001b[0;36mforward\u001b[0;34m(self, hidden_states, attention_mask, head_mask, encoder_hidden_states, encoder_attention_mask, past_key_value, output_attentions)\u001b[0m\n\u001b[1;32m    265\u001b[0m         \u001b[0moutput_attentions\u001b[0m\u001b[0;34m=\u001b[0m\u001b[0;32mFalse\u001b[0m\u001b[0;34m,\u001b[0m\u001b[0;34m\u001b[0m\u001b[0;34m\u001b[0m\u001b[0m\n\u001b[1;32m    266\u001b[0m     ):\n\u001b[0;32m--> 267\u001b[0;31m         \u001b[0mmixed_query_layer\u001b[0m \u001b[0;34m=\u001b[0m \u001b[0mself\u001b[0m\u001b[0;34m.\u001b[0m\u001b[0mquery\u001b[0m\u001b[0;34m(\u001b[0m\u001b[0mhidden_states\u001b[0m\u001b[0;34m)\u001b[0m\u001b[0;34m\u001b[0m\u001b[0;34m\u001b[0m\u001b[0m\n\u001b[0m\u001b[1;32m    268\u001b[0m \u001b[0;34m\u001b[0m\u001b[0m\n\u001b[1;32m    269\u001b[0m         \u001b[0;31m# If this is instantiated as a cross-attention module, the keys\u001b[0m\u001b[0;34m\u001b[0m\u001b[0;34m\u001b[0m\u001b[0;34m\u001b[0m\u001b[0m\n",
      "\u001b[0;32m~/anaconda3/envs/nlp_ofa/lib/python3.9/site-packages/torch/nn/modules/module.py\u001b[0m in \u001b[0;36m_call_impl\u001b[0;34m(self, *input, **kwargs)\u001b[0m\n\u001b[1;32m   1049\u001b[0m         if not (self._backward_hooks or self._forward_hooks or self._forward_pre_hooks or _global_backward_hooks\n\u001b[1;32m   1050\u001b[0m                 or _global_forward_hooks or _global_forward_pre_hooks):\n\u001b[0;32m-> 1051\u001b[0;31m             \u001b[0;32mreturn\u001b[0m \u001b[0mforward_call\u001b[0m\u001b[0;34m(\u001b[0m\u001b[0;34m*\u001b[0m\u001b[0minput\u001b[0m\u001b[0;34m,\u001b[0m \u001b[0;34m**\u001b[0m\u001b[0mkwargs\u001b[0m\u001b[0;34m)\u001b[0m\u001b[0;34m\u001b[0m\u001b[0;34m\u001b[0m\u001b[0m\n\u001b[0m\u001b[1;32m   1052\u001b[0m         \u001b[0;31m# Do not call functions when jit is used\u001b[0m\u001b[0;34m\u001b[0m\u001b[0;34m\u001b[0m\u001b[0;34m\u001b[0m\u001b[0m\n\u001b[1;32m   1053\u001b[0m         \u001b[0mfull_backward_hooks\u001b[0m\u001b[0;34m,\u001b[0m \u001b[0mnon_full_backward_hooks\u001b[0m \u001b[0;34m=\u001b[0m \u001b[0;34m[\u001b[0m\u001b[0;34m]\u001b[0m\u001b[0;34m,\u001b[0m \u001b[0;34m[\u001b[0m\u001b[0;34m]\u001b[0m\u001b[0;34m\u001b[0m\u001b[0;34m\u001b[0m\u001b[0m\n",
      "\u001b[0;32m~/anaconda3/envs/nlp_ofa/lib/python3.9/site-packages/torch/nn/modules/linear.py\u001b[0m in \u001b[0;36mforward\u001b[0;34m(self, input)\u001b[0m\n\u001b[1;32m     94\u001b[0m \u001b[0;34m\u001b[0m\u001b[0m\n\u001b[1;32m     95\u001b[0m     \u001b[0;32mdef\u001b[0m \u001b[0mforward\u001b[0m\u001b[0;34m(\u001b[0m\u001b[0mself\u001b[0m\u001b[0;34m,\u001b[0m \u001b[0minput\u001b[0m\u001b[0;34m:\u001b[0m \u001b[0mTensor\u001b[0m\u001b[0;34m)\u001b[0m \u001b[0;34m->\u001b[0m \u001b[0mTensor\u001b[0m\u001b[0;34m:\u001b[0m\u001b[0;34m\u001b[0m\u001b[0;34m\u001b[0m\u001b[0m\n\u001b[0;32m---> 96\u001b[0;31m         \u001b[0;32mreturn\u001b[0m \u001b[0mF\u001b[0m\u001b[0;34m.\u001b[0m\u001b[0mlinear\u001b[0m\u001b[0;34m(\u001b[0m\u001b[0minput\u001b[0m\u001b[0;34m,\u001b[0m \u001b[0mself\u001b[0m\u001b[0;34m.\u001b[0m\u001b[0mweight\u001b[0m\u001b[0;34m,\u001b[0m \u001b[0mself\u001b[0m\u001b[0;34m.\u001b[0m\u001b[0mbias\u001b[0m\u001b[0;34m)\u001b[0m\u001b[0;34m\u001b[0m\u001b[0;34m\u001b[0m\u001b[0m\n\u001b[0m\u001b[1;32m     97\u001b[0m \u001b[0;34m\u001b[0m\u001b[0m\n\u001b[1;32m     98\u001b[0m     \u001b[0;32mdef\u001b[0m \u001b[0mextra_repr\u001b[0m\u001b[0;34m(\u001b[0m\u001b[0mself\u001b[0m\u001b[0;34m)\u001b[0m \u001b[0;34m->\u001b[0m \u001b[0mstr\u001b[0m\u001b[0;34m:\u001b[0m\u001b[0;34m\u001b[0m\u001b[0;34m\u001b[0m\u001b[0m\n",
      "\u001b[0;32m~/anaconda3/envs/nlp_ofa/lib/python3.9/site-packages/torch/nn/modules/module.py\u001b[0m in \u001b[0;36m__getattr__\u001b[0;34m(self, name)\u001b[0m\n\u001b[1;32m   1115\u001b[0m             \u001b[0mself\u001b[0m\u001b[0;34m.\u001b[0m\u001b[0m_is_full_backward_hook\u001b[0m \u001b[0;34m=\u001b[0m \u001b[0;32mNone\u001b[0m\u001b[0;34m\u001b[0m\u001b[0;34m\u001b[0m\u001b[0m\n\u001b[1;32m   1116\u001b[0m \u001b[0;34m\u001b[0m\u001b[0m\n\u001b[0;32m-> 1117\u001b[0;31m     \u001b[0;32mdef\u001b[0m \u001b[0m__getattr__\u001b[0m\u001b[0;34m(\u001b[0m\u001b[0mself\u001b[0m\u001b[0;34m,\u001b[0m \u001b[0mname\u001b[0m\u001b[0;34m:\u001b[0m \u001b[0mstr\u001b[0m\u001b[0;34m)\u001b[0m \u001b[0;34m->\u001b[0m \u001b[0mUnion\u001b[0m\u001b[0;34m[\u001b[0m\u001b[0mTensor\u001b[0m\u001b[0;34m,\u001b[0m \u001b[0;34m'Module'\u001b[0m\u001b[0;34m]\u001b[0m\u001b[0;34m:\u001b[0m\u001b[0;34m\u001b[0m\u001b[0;34m\u001b[0m\u001b[0m\n\u001b[0m\u001b[1;32m   1118\u001b[0m         \u001b[0;32mif\u001b[0m \u001b[0;34m'_parameters'\u001b[0m \u001b[0;32min\u001b[0m \u001b[0mself\u001b[0m\u001b[0;34m.\u001b[0m\u001b[0m__dict__\u001b[0m\u001b[0;34m:\u001b[0m\u001b[0;34m\u001b[0m\u001b[0;34m\u001b[0m\u001b[0m\n\u001b[1;32m   1119\u001b[0m             \u001b[0m_parameters\u001b[0m \u001b[0;34m=\u001b[0m \u001b[0mself\u001b[0m\u001b[0;34m.\u001b[0m\u001b[0m__dict__\u001b[0m\u001b[0;34m[\u001b[0m\u001b[0;34m'_parameters'\u001b[0m\u001b[0;34m]\u001b[0m\u001b[0;34m\u001b[0m\u001b[0;34m\u001b[0m\u001b[0m\n",
      "\u001b[0;31mKeyboardInterrupt\u001b[0m: "
     ]
    },
    {
     "data": {
      "image/png": "[encoded data removed]",
      "text/plain": [
       "<Figure size 432x288 with 2 Axes>"
      ]
     },
     "metadata": {
      "needs_background": "light"
     },
     "output_type": "display_data"
    }
   ],
   "source": [
    "import numpy as np\n",
    "\n",
    "array = np.empty((8,8))\n",
    "for i in range(5,13):\n",
    "    model = BERT().to(device)\n",
    "    print(\"\\n\\n****starting with layer number of \",i,\"****\")\n",
    "    train(model=model, optimizer=optimizer, max_encoder_num=i)\n",
    "    best_model = BERT().to(device)\n",
    "    print(\"loading model trained with \" + str(i) + \" number of layers\")\n",
    "    load_checkpoint(destination_folder +\"/\"+ str(i)+ 'model.pt', best_model)\n",
    "    for j in range(5,13):\n",
    "        acc = evaluate(best_model, test_iter, max_encoder_num=j)\n",
    "#         acc_dict[(i,j)] = acc\n",
    "#         array[i-5][j-5] = acc_dict[(i,j)]\n",
    "        array[i-5][j-5] = acc\n",
    "        print(\"accuracy when using \", j, \" layers\", acc)"
   ]
  },
  {
   "cell_type": "code",
   "execution_count": 37,
   "id": "6d76160e",
   "metadata": {},
   "outputs": [
    {
     "name": "stdout",
     "output_type": "stream",
     "text": [
      "Loss for model trained with  5  number of layers\n",
      "Model loaded from <== /home/ilee300/workspace/nlp_ofa/./data/5metrics.pt\n"
     ]
    },
    {
     "data": {
      "image/png": "[encoded data removed]",
      "text/plain": [
       "<Figure size 432x288 with 1 Axes>"
      ]
     },
     "metadata": {
      "needs_background": "light"
     },
     "output_type": "display_data"
    },
    {
     "name": "stdout",
     "output_type": "stream",
     "text": [
      "Loss for model trained with  6  number of layers\n",
      "Model loaded from <== /home/ilee300/workspace/nlp_ofa/./data/6metrics.pt\n"
     ]
    },
    {
     "data": {
      "image/png": "[encoded data removed]",
      "text/plain": [
       "<Figure size 432x288 with 1 Axes>"
      ]
     },
     "metadata": {
      "needs_background": "light"
     },
     "output_type": "display_data"
    },
    {
     "name": "stdout",
     "output_type": "stream",
     "text": [
      "Loss for model trained with  7  number of layers\n",
      "Model loaded from <== /home/ilee300/workspace/nlp_ofa/./data/7metrics.pt\n"
     ]
    },
    {
     "data": {
      "image/png": "[encoded data removed]",
      "text/plain": [
       "<Figure size 432x288 with 1 Axes>"
      ]
     },
     "metadata": {
      "needs_background": "light"
     },
     "output_type": "display_data"
    },
    {
     "name": "stdout",
     "output_type": "stream",
     "text": [
      "Loss for model trained with  8  number of layers\n",
      "Model loaded from <== /home/ilee300/workspace/nlp_ofa/./data/8metrics.pt\n"
     ]
    },
    {
     "data": {
      "image/png": "[encoded data removed]",
      "text/plain": [
       "<Figure size 432x288 with 1 Axes>"
      ]
     },
     "metadata": {
      "needs_background": "light"
     },
     "output_type": "display_data"
    },
    {
     "name": "stdout",
     "output_type": "stream",
     "text": [
      "Loss for model trained with  9  number of layers\n",
      "Model loaded from <== /home/ilee300/workspace/nlp_ofa/./data/9metrics.pt\n"
     ]
    },
    {
     "data": {
      "image/png": "[encoded data removed]",
      "text/plain": [
       "<Figure size 432x288 with 1 Axes>"
      ]
     },
     "metadata": {
      "needs_background": "light"
     },
     "output_type": "display_data"
    },
    {
     "name": "stdout",
     "output_type": "stream",
     "text": [
      "Loss for model trained with  10  number of layers\n",
      "Model loaded from <== /home/ilee300/workspace/nlp_ofa/./data/10metrics.pt\n"
     ]
    },
    {
     "data": {
      "image/png": "[encoded data removed]",
      "text/plain": [
       "<Figure size 432x288 with 1 Axes>"
      ]
     },
     "metadata": {
      "needs_background": "light"
     },
     "output_type": "display_data"
    },
    {
     "name": "stdout",
     "output_type": "stream",
     "text": [
      "Loss for model trained with  11  number of layers\n",
      "Model loaded from <== /home/ilee300/workspace/nlp_ofa/./data/11metrics.pt\n"
     ]
    },
    {
     "data": {
      "image/png": "[encoded data removed]",
      "text/plain": [
       "<Figure size 432x288 with 1 Axes>"
      ]
     },
     "metadata": {
      "needs_background": "light"
     },
     "output_type": "display_data"
    },
    {
     "name": "stdout",
     "output_type": "stream",
     "text": [
      "Loss for model trained with  12  number of layers\n",
      "Model loaded from <== /home/ilee300/workspace/nlp_ofa/./data/12metrics.pt\n"
     ]
    },
    {
     "data": {
      "image/png": "[encoded data removed]",
      "text/plain": [
       "<Figure size 432x288 with 1 Axes>"
      ]
     },
     "metadata": {
      "needs_background": "light"
     },
     "output_type": "display_data"
    }
   ],
   "source": [
    "for i in range(5,13):\n",
    "    print(\"Loss for model trained with \",i ,\" number of layers\")\n",
    "    train_loss_list, valid_loss_list, global_steps_list = load_metrics(destination_folder +\"/\"+ str(i)+ 'metrics.pt')\n",
    "    plt.plot(global_steps_list, train_loss_list, label='Train')\n",
    "    plt.plot(global_steps_list, valid_loss_list, label='Valid')\n",
    "    plt.xlabel('Global Steps')\n",
    "    plt.ylabel('Loss')\n",
    "    plt.legend()\n",
    "    plt.show() "
   ]
  },
  {
   "cell_type": "code",
   "execution_count": null,
   "id": "6a623ee3",
   "metadata": {},
   "outputs": [],
   "source": [
    "best_model = BERT().to(device)\n",
    "acc_dict = dict()\n",
    "for i in range(5,13):\n",
    "    print(\"loading model trained with \" + str(i) + \" number of layers\")\n",
    "    load_checkpoint(destination_folder +\"/\"+ str(i)+ 'model.pt', best_model)\n",
    "\n",
    "    for j in range(5,13):\n",
    "        acc = evaluate(best_model, test_iter, max_encoder_num=j)\n",
    "        acc_dict[(i,j)] = acc\n",
    "        print(\"accuracy when using \", j, \" layers\", acc)"
   ]
  },
  {
   "cell_type": "code",
   "execution_count": null,
   "id": "57880e35",
   "metadata": {},
   "outputs": [],
   "source": [
    "import numpy as np\n",
    "\n",
    "array = np.empty((8,8))\n",
    "for i in range(5,13):\n",
    "    for j in range(5,13):\n",
    "        array[i-5][j-5] = acc_dict[(i,j)]\n"
   ]
  },
  {
   "cell_type": "code",
   "execution_count": 53,
   "id": "320a5c28",
   "metadata": {
    "scrolled": true
   },
   "outputs": [
    {
     "data": {
      "image/png": "[encoded data removed]",
      "text/plain": [
       "<Figure size 432x288 with 2 Axes>"
      ]
     },
     "metadata": {
      "needs_background": "light"
     },
     "output_type": "display_data"
    }
   ],
   "source": [
    "ax = sns.heatmap(array,  linewidth=0.5,xticklabels=list(range(5,13)), yticklabels=list(range(5,13)))\n",
    "ax.invert_yaxis()\n",
    "ax.set_ylabel('num layers used for eval')\n",
    "ax.set_xlabel('num layers used to train model')\n",
    "# ax.axis([5, 12,5,12])\n",
    "plt.show()\n"
   ]
  },
  {
   "cell_type": "code",
   "execution_count": 54,
   "id": "1a21ae1a",
   "metadata": {},
   "outputs": [
    {
     "name": "stdout",
     "output_type": "stream",
     "text": [
      "initializing bertforsequenceclassification\n",
      "initializing weights\n"
     ]
    },
    {
     "name": "stderr",
     "output_type": "stream",
     "text": [
      "Some weights of the model checkpoint at bert-base-uncased were not used when initializing BertForSequenceClassification: ['cls.seq_relationship.weight', 'cls.predictions.decoder.weight', 'cls.seq_relationship.bias', 'cls.predictions.transform.dense.bias', 'cls.predictions.bias', 'cls.predictions.transform.dense.weight', 'cls.predictions.transform.LayerNorm.weight', 'cls.predictions.transform.LayerNorm.bias']\n",
      "- This IS expected if you are initializing BertForSequenceClassification from the checkpoint of a model trained on another task or with another architecture (e.g. initializing a BertForSequenceClassification model from a BertForPreTraining model).\n",
      "- This IS NOT expected if you are initializing BertForSequenceClassification from the checkpoint of a model that you expect to be exactly identical (initializing a BertForSequenceClassification model from a BertForSequenceClassification model).\n",
      "Some weights of BertForSequenceClassification were not initialized from the model checkpoint at bert-base-uncased and are newly initialized: ['classifier.weight', 'classifier.bias']\n",
      "You should probably TRAIN this model on a down-stream task to be able to use it for predictions and inference.\n"
     ]
    },
    {
     "name": "stdout",
     "output_type": "stream",
     "text": [
      "loading model trained with 5 number of layers\n",
      "Model loaded from <== /home/ilee300/workspace/nlp_ofa/./data/5model.pt\n",
      "changing encoder number :  12  =>  5\n",
      "evaluating with max encoder number of  5\n",
      "Classification Report:\n",
      "              precision    recall  f1-score   support\n",
      "\n",
      "           1     1.0000    1.0000    1.0000       249\n",
      "           0     1.0000    1.0000    1.0000       253\n",
      "\n",
      "    accuracy                         1.0000       502\n",
      "   macro avg     1.0000    1.0000    1.0000       502\n",
      "weighted avg     1.0000    1.0000    1.0000       502\n",
      "\n",
      "accuracy when using  5  layers 1.0\n",
      "changing encoder number :  12  =>  6\n",
      "evaluating with max encoder number of  6\n",
      "Classification Report:\n",
      "              precision    recall  f1-score   support\n",
      "\n",
      "           1     1.0000    1.0000    1.0000       249\n",
      "           0     1.0000    1.0000    1.0000       253\n",
      "\n",
      "    accuracy                         1.0000       502\n",
      "   macro avg     1.0000    1.0000    1.0000       502\n",
      "weighted avg     1.0000    1.0000    1.0000       502\n",
      "\n",
      "accuracy when using  6  layers 1.0\n",
      "changing encoder number :  12  =>  7\n",
      "evaluating with max encoder number of  7\n",
      "Classification Report:\n",
      "              precision    recall  f1-score   support\n",
      "\n",
      "           1     1.0000    1.0000    1.0000       249\n",
      "           0     1.0000    1.0000    1.0000       253\n",
      "\n",
      "    accuracy                         1.0000       502\n",
      "   macro avg     1.0000    1.0000    1.0000       502\n",
      "weighted avg     1.0000    1.0000    1.0000       502\n",
      "\n",
      "accuracy when using  7  layers 1.0\n",
      "changing encoder number :  12  =>  8\n",
      "evaluating with max encoder number of  8\n",
      "Classification Report:\n",
      "              precision    recall  f1-score   support\n",
      "\n",
      "           1     1.0000    1.0000    1.0000       249\n",
      "           0     1.0000    1.0000    1.0000       253\n",
      "\n",
      "    accuracy                         1.0000       502\n",
      "   macro avg     1.0000    1.0000    1.0000       502\n",
      "weighted avg     1.0000    1.0000    1.0000       502\n",
      "\n",
      "accuracy when using  8  layers 1.0\n",
      "changing encoder number :  12  =>  9\n",
      "evaluating with max encoder number of  9\n",
      "Classification Report:\n",
      "              precision    recall  f1-score   support\n",
      "\n",
      "           1     1.0000    1.0000    1.0000       249\n",
      "           0     1.0000    1.0000    1.0000       253\n",
      "\n",
      "    accuracy                         1.0000       502\n",
      "   macro avg     1.0000    1.0000    1.0000       502\n",
      "weighted avg     1.0000    1.0000    1.0000       502\n",
      "\n",
      "accuracy when using  9  layers 1.0\n",
      "changing encoder number :  12  =>  10\n",
      "evaluating with max encoder number of  10\n",
      "Classification Report:\n",
      "              precision    recall  f1-score   support\n",
      "\n",
      "           1     1.0000    1.0000    1.0000       249\n",
      "           0     1.0000    1.0000    1.0000       253\n",
      "\n",
      "    accuracy                         1.0000       502\n",
      "   macro avg     1.0000    1.0000    1.0000       502\n",
      "weighted avg     1.0000    1.0000    1.0000       502\n",
      "\n",
      "accuracy when using  10  layers 1.0\n",
      "changing encoder number :  12  =>  11\n",
      "evaluating with max encoder number of  11\n",
      "Classification Report:\n",
      "              precision    recall  f1-score   support\n",
      "\n",
      "           1     1.0000    1.0000    1.0000       249\n",
      "           0     1.0000    1.0000    1.0000       253\n",
      "\n",
      "    accuracy                         1.0000       502\n",
      "   macro avg     1.0000    1.0000    1.0000       502\n",
      "weighted avg     1.0000    1.0000    1.0000       502\n",
      "\n",
      "accuracy when using  11  layers 1.0\n",
      "changing encoder number :  12  =>  12\n",
      "evaluating with max encoder number of  12\n",
      "Classification Report:\n",
      "              precision    recall  f1-score   support\n",
      "\n",
      "           1     1.0000    1.0000    1.0000       249\n",
      "           0     1.0000    1.0000    1.0000       253\n",
      "\n",
      "    accuracy                         1.0000       502\n",
      "   macro avg     1.0000    1.0000    1.0000       502\n",
      "weighted avg     1.0000    1.0000    1.0000       502\n",
      "\n",
      "accuracy when using  12  layers 1.0\n",
      "loading model trained with 6 number of layers\n",
      "Model loaded from <== /home/ilee300/workspace/nlp_ofa/./data/6model.pt\n",
      "changing encoder number :  12  =>  5\n",
      "evaluating with max encoder number of  5\n",
      "Classification Report:\n",
      "              precision    recall  f1-score   support\n",
      "\n",
      "           1     1.0000    1.0000    1.0000       249\n",
      "           0     1.0000    1.0000    1.0000       253\n",
      "\n",
      "    accuracy                         1.0000       502\n",
      "   macro avg     1.0000    1.0000    1.0000       502\n",
      "weighted avg     1.0000    1.0000    1.0000       502\n",
      "\n",
      "accuracy when using  5  layers 1.0\n",
      "changing encoder number :  12  =>  6\n",
      "evaluating with max encoder number of  6\n",
      "Classification Report:\n",
      "              precision    recall  f1-score   support\n",
      "\n",
      "           1     1.0000    1.0000    1.0000       249\n",
      "           0     1.0000    1.0000    1.0000       253\n",
      "\n",
      "    accuracy                         1.0000       502\n",
      "   macro avg     1.0000    1.0000    1.0000       502\n",
      "weighted avg     1.0000    1.0000    1.0000       502\n",
      "\n",
      "accuracy when using  6  layers 1.0\n",
      "changing encoder number :  12  =>  7\n",
      "evaluating with max encoder number of  7\n",
      "Classification Report:\n",
      "              precision    recall  f1-score   support\n",
      "\n",
      "           1     1.0000    1.0000    1.0000       249\n",
      "           0     1.0000    1.0000    1.0000       253\n",
      "\n",
      "    accuracy                         1.0000       502\n",
      "   macro avg     1.0000    1.0000    1.0000       502\n",
      "weighted avg     1.0000    1.0000    1.0000       502\n",
      "\n",
      "accuracy when using  7  layers 1.0\n",
      "changing encoder number :  12  =>  8\n",
      "evaluating with max encoder number of  8\n",
      "Classification Report:\n",
      "              precision    recall  f1-score   support\n",
      "\n",
      "           1     1.0000    1.0000    1.0000       249\n",
      "           0     1.0000    1.0000    1.0000       253\n",
      "\n",
      "    accuracy                         1.0000       502\n",
      "   macro avg     1.0000    1.0000    1.0000       502\n",
      "weighted avg     1.0000    1.0000    1.0000       502\n",
      "\n",
      "accuracy when using  8  layers 1.0\n",
      "changing encoder number :  12  =>  9\n",
      "evaluating with max encoder number of  9\n",
      "Classification Report:\n",
      "              precision    recall  f1-score   support\n",
      "\n",
      "           1     1.0000    1.0000    1.0000       249\n",
      "           0     1.0000    1.0000    1.0000       253\n",
      "\n",
      "    accuracy                         1.0000       502\n",
      "   macro avg     1.0000    1.0000    1.0000       502\n",
      "weighted avg     1.0000    1.0000    1.0000       502\n",
      "\n",
      "accuracy when using  9  layers 1.0\n",
      "changing encoder number :  12  =>  10\n",
      "evaluating with max encoder number of  10\n",
      "Classification Report:\n",
      "              precision    recall  f1-score   support\n",
      "\n",
      "           1     1.0000    1.0000    1.0000       249\n",
      "           0     1.0000    1.0000    1.0000       253\n",
      "\n",
      "    accuracy                         1.0000       502\n",
      "   macro avg     1.0000    1.0000    1.0000       502\n",
      "weighted avg     1.0000    1.0000    1.0000       502\n",
      "\n",
      "accuracy when using  10  layers 1.0\n",
      "changing encoder number :  12  =>  11\n",
      "evaluating with max encoder number of  11\n",
      "Classification Report:\n",
      "              precision    recall  f1-score   support\n",
      "\n",
      "           1     1.0000    1.0000    1.0000       249\n",
      "           0     1.0000    1.0000    1.0000       253\n",
      "\n",
      "    accuracy                         1.0000       502\n",
      "   macro avg     1.0000    1.0000    1.0000       502\n",
      "weighted avg     1.0000    1.0000    1.0000       502\n",
      "\n",
      "accuracy when using  11  layers 1.0\n",
      "changing encoder number :  12  =>  12\n",
      "evaluating with max encoder number of  12\n",
      "Classification Report:\n",
      "              precision    recall  f1-score   support\n",
      "\n",
      "           1     1.0000    1.0000    1.0000       249\n",
      "           0     1.0000    1.0000    1.0000       253\n",
      "\n",
      "    accuracy                         1.0000       502\n",
      "   macro avg     1.0000    1.0000    1.0000       502\n",
      "weighted avg     1.0000    1.0000    1.0000       502\n",
      "\n",
      "accuracy when using  12  layers 1.0\n",
      "loading model trained with 7 number of layers\n",
      "Model loaded from <== /home/ilee300/workspace/nlp_ofa/./data/7model.pt\n",
      "changing encoder number :  12  =>  5\n",
      "evaluating with max encoder number of  5\n",
      "Classification Report:\n",
      "              precision    recall  f1-score   support\n",
      "\n",
      "           1     1.0000    1.0000    1.0000       249\n",
      "           0     1.0000    1.0000    1.0000       253\n",
      "\n",
      "    accuracy                         1.0000       502\n",
      "   macro avg     1.0000    1.0000    1.0000       502\n",
      "weighted avg     1.0000    1.0000    1.0000       502\n",
      "\n",
      "accuracy when using  5  layers 1.0\n",
      "changing encoder number :  12  =>  6\n",
      "evaluating with max encoder number of  6\n"
     ]
    },
    {
     "name": "stdout",
     "output_type": "stream",
     "text": [
      "Classification Report:\n",
      "              precision    recall  f1-score   support\n",
      "\n",
      "           1     1.0000    1.0000    1.0000       249\n",
      "           0     1.0000    1.0000    1.0000       253\n",
      "\n",
      "    accuracy                         1.0000       502\n",
      "   macro avg     1.0000    1.0000    1.0000       502\n",
      "weighted avg     1.0000    1.0000    1.0000       502\n",
      "\n",
      "accuracy when using  6  layers 1.0\n",
      "changing encoder number :  12  =>  7\n",
      "evaluating with max encoder number of  7\n",
      "Classification Report:\n",
      "              precision    recall  f1-score   support\n",
      "\n",
      "           1     1.0000    1.0000    1.0000       249\n",
      "           0     1.0000    1.0000    1.0000       253\n",
      "\n",
      "    accuracy                         1.0000       502\n",
      "   macro avg     1.0000    1.0000    1.0000       502\n",
      "weighted avg     1.0000    1.0000    1.0000       502\n",
      "\n",
      "accuracy when using  7  layers 1.0\n",
      "changing encoder number :  12  =>  8\n",
      "evaluating with max encoder number of  8\n",
      "Classification Report:\n",
      "              precision    recall  f1-score   support\n",
      "\n",
      "           1     1.0000    1.0000    1.0000       249\n",
      "           0     1.0000    1.0000    1.0000       253\n",
      "\n",
      "    accuracy                         1.0000       502\n",
      "   macro avg     1.0000    1.0000    1.0000       502\n",
      "weighted avg     1.0000    1.0000    1.0000       502\n",
      "\n",
      "accuracy when using  8  layers 1.0\n",
      "changing encoder number :  12  =>  9\n",
      "evaluating with max encoder number of  9\n",
      "Classification Report:\n",
      "              precision    recall  f1-score   support\n",
      "\n",
      "           1     1.0000    1.0000    1.0000       249\n",
      "           0     1.0000    1.0000    1.0000       253\n",
      "\n",
      "    accuracy                         1.0000       502\n",
      "   macro avg     1.0000    1.0000    1.0000       502\n",
      "weighted avg     1.0000    1.0000    1.0000       502\n",
      "\n",
      "accuracy when using  9  layers 1.0\n",
      "changing encoder number :  12  =>  10\n",
      "evaluating with max encoder number of  10\n",
      "Classification Report:\n",
      "              precision    recall  f1-score   support\n",
      "\n",
      "           1     1.0000    1.0000    1.0000       249\n",
      "           0     1.0000    1.0000    1.0000       253\n",
      "\n",
      "    accuracy                         1.0000       502\n",
      "   macro avg     1.0000    1.0000    1.0000       502\n",
      "weighted avg     1.0000    1.0000    1.0000       502\n",
      "\n",
      "accuracy when using  10  layers 1.0\n",
      "changing encoder number :  12  =>  11\n",
      "evaluating with max encoder number of  11\n",
      "Classification Report:\n",
      "              precision    recall  f1-score   support\n",
      "\n",
      "           1     1.0000    1.0000    1.0000       249\n",
      "           0     1.0000    1.0000    1.0000       253\n",
      "\n",
      "    accuracy                         1.0000       502\n",
      "   macro avg     1.0000    1.0000    1.0000       502\n",
      "weighted avg     1.0000    1.0000    1.0000       502\n",
      "\n",
      "accuracy when using  11  layers 1.0\n",
      "changing encoder number :  12  =>  12\n",
      "evaluating with max encoder number of  12\n",
      "Classification Report:\n",
      "              precision    recall  f1-score   support\n",
      "\n",
      "           1     1.0000    1.0000    1.0000       249\n",
      "           0     1.0000    1.0000    1.0000       253\n",
      "\n",
      "    accuracy                         1.0000       502\n",
      "   macro avg     1.0000    1.0000    1.0000       502\n",
      "weighted avg     1.0000    1.0000    1.0000       502\n",
      "\n",
      "accuracy when using  12  layers 1.0\n",
      "loading model trained with 8 number of layers\n",
      "Model loaded from <== /home/ilee300/workspace/nlp_ofa/./data/8model.pt\n",
      "changing encoder number :  12  =>  5\n",
      "evaluating with max encoder number of  5\n",
      "Classification Report:\n",
      "              precision    recall  f1-score   support\n",
      "\n",
      "           1     1.0000    1.0000    1.0000       249\n",
      "           0     1.0000    1.0000    1.0000       253\n",
      "\n",
      "    accuracy                         1.0000       502\n",
      "   macro avg     1.0000    1.0000    1.0000       502\n",
      "weighted avg     1.0000    1.0000    1.0000       502\n",
      "\n",
      "accuracy when using  5  layers 1.0\n",
      "changing encoder number :  12  =>  6\n",
      "evaluating with max encoder number of  6\n",
      "Classification Report:\n",
      "              precision    recall  f1-score   support\n",
      "\n",
      "           1     1.0000    1.0000    1.0000       249\n",
      "           0     1.0000    1.0000    1.0000       253\n",
      "\n",
      "    accuracy                         1.0000       502\n",
      "   macro avg     1.0000    1.0000    1.0000       502\n",
      "weighted avg     1.0000    1.0000    1.0000       502\n",
      "\n",
      "accuracy when using  6  layers 1.0\n",
      "changing encoder number :  12  =>  7\n",
      "evaluating with max encoder number of  7\n",
      "Classification Report:\n",
      "              precision    recall  f1-score   support\n",
      "\n",
      "           1     1.0000    0.9960    0.9980       249\n",
      "           0     0.9961    1.0000    0.9980       253\n",
      "\n",
      "    accuracy                         0.9980       502\n",
      "   macro avg     0.9980    0.9980    0.9980       502\n",
      "weighted avg     0.9980    0.9980    0.9980       502\n",
      "\n",
      "accuracy when using  7  layers 0.99800796812749\n",
      "changing encoder number :  12  =>  8\n",
      "evaluating with max encoder number of  8\n",
      "Classification Report:\n",
      "              precision    recall  f1-score   support\n",
      "\n",
      "           1     1.0000    0.9880    0.9939       249\n",
      "           0     0.9883    1.0000    0.9941       253\n",
      "\n",
      "    accuracy                         0.9940       502\n",
      "   macro avg     0.9941    0.9940    0.9940       502\n",
      "weighted avg     0.9941    0.9940    0.9940       502\n",
      "\n",
      "accuracy when using  8  layers 0.9940239043824701\n",
      "changing encoder number :  12  =>  9\n",
      "evaluating with max encoder number of  9\n",
      "Classification Report:\n",
      "              precision    recall  f1-score   support\n",
      "\n",
      "           1     1.0000    0.9880    0.9939       249\n",
      "           0     0.9883    1.0000    0.9941       253\n",
      "\n",
      "    accuracy                         0.9940       502\n",
      "   macro avg     0.9941    0.9940    0.9940       502\n",
      "weighted avg     0.9941    0.9940    0.9940       502\n",
      "\n",
      "accuracy when using  9  layers 0.9940239043824701\n",
      "changing encoder number :  12  =>  10\n",
      "evaluating with max encoder number of  10\n",
      "Classification Report:\n",
      "              precision    recall  f1-score   support\n",
      "\n",
      "           1     1.0000    0.9920    0.9960       249\n",
      "           0     0.9922    1.0000    0.9961       253\n",
      "\n",
      "    accuracy                         0.9960       502\n",
      "   macro avg     0.9961    0.9960    0.9960       502\n",
      "weighted avg     0.9960    0.9960    0.9960       502\n",
      "\n",
      "accuracy when using  10  layers 0.9960159362549801\n",
      "changing encoder number :  12  =>  11\n",
      "evaluating with max encoder number of  11\n",
      "Classification Report:\n",
      "              precision    recall  f1-score   support\n",
      "\n",
      "           1     1.0000    0.9920    0.9960       249\n",
      "           0     0.9922    1.0000    0.9961       253\n",
      "\n",
      "    accuracy                         0.9960       502\n",
      "   macro avg     0.9961    0.9960    0.9960       502\n",
      "weighted avg     0.9960    0.9960    0.9960       502\n",
      "\n",
      "accuracy when using  11  layers 0.9960159362549801\n",
      "changing encoder number :  12  =>  12\n",
      "evaluating with max encoder number of  12\n",
      "Classification Report:\n",
      "              precision    recall  f1-score   support\n",
      "\n",
      "           1     1.0000    0.9920    0.9960       249\n",
      "           0     0.9922    1.0000    0.9961       253\n",
      "\n",
      "    accuracy                         0.9960       502\n",
      "   macro avg     0.9961    0.9960    0.9960       502\n",
      "weighted avg     0.9960    0.9960    0.9960       502\n",
      "\n",
      "accuracy when using  12  layers 0.9960159362549801\n",
      "loading model trained with 9 number of layers\n",
      "Model loaded from <== /home/ilee300/workspace/nlp_ofa/./data/9model.pt\n",
      "changing encoder number :  12  =>  5\n",
      "evaluating with max encoder number of  5\n",
      "Classification Report:\n",
      "              precision    recall  f1-score   support\n",
      "\n",
      "           1     1.0000    1.0000    1.0000       249\n",
      "           0     1.0000    1.0000    1.0000       253\n",
      "\n",
      "    accuracy                         1.0000       502\n",
      "   macro avg     1.0000    1.0000    1.0000       502\n",
      "weighted avg     1.0000    1.0000    1.0000       502\n",
      "\n",
      "accuracy when using  5  layers 1.0\n",
      "changing encoder number :  12  =>  6\n",
      "evaluating with max encoder number of  6\n",
      "Classification Report:\n",
      "              precision    recall  f1-score   support\n",
      "\n",
      "           1     1.0000    1.0000    1.0000       249\n",
      "           0     1.0000    1.0000    1.0000       253\n",
      "\n",
      "    accuracy                         1.0000       502\n",
      "   macro avg     1.0000    1.0000    1.0000       502\n",
      "weighted avg     1.0000    1.0000    1.0000       502\n",
      "\n",
      "accuracy when using  6  layers 1.0\n",
      "changing encoder number :  12  =>  7\n",
      "evaluating with max encoder number of  7\n"
     ]
    },
    {
     "name": "stdout",
     "output_type": "stream",
     "text": [
      "Classification Report:\n",
      "              precision    recall  f1-score   support\n",
      "\n",
      "           1     1.0000    1.0000    1.0000       249\n",
      "           0     1.0000    1.0000    1.0000       253\n",
      "\n",
      "    accuracy                         1.0000       502\n",
      "   macro avg     1.0000    1.0000    1.0000       502\n",
      "weighted avg     1.0000    1.0000    1.0000       502\n",
      "\n",
      "accuracy when using  7  layers 1.0\n",
      "changing encoder number :  12  =>  8\n",
      "evaluating with max encoder number of  8\n",
      "Classification Report:\n",
      "              precision    recall  f1-score   support\n",
      "\n",
      "           1     1.0000    1.0000    1.0000       249\n",
      "           0     1.0000    1.0000    1.0000       253\n",
      "\n",
      "    accuracy                         1.0000       502\n",
      "   macro avg     1.0000    1.0000    1.0000       502\n",
      "weighted avg     1.0000    1.0000    1.0000       502\n",
      "\n",
      "accuracy when using  8  layers 1.0\n",
      "changing encoder number :  12  =>  9\n",
      "evaluating with max encoder number of  9\n",
      "Classification Report:\n",
      "              precision    recall  f1-score   support\n",
      "\n",
      "           1     1.0000    1.0000    1.0000       249\n",
      "           0     1.0000    1.0000    1.0000       253\n",
      "\n",
      "    accuracy                         1.0000       502\n",
      "   macro avg     1.0000    1.0000    1.0000       502\n",
      "weighted avg     1.0000    1.0000    1.0000       502\n",
      "\n",
      "accuracy when using  9  layers 1.0\n",
      "changing encoder number :  12  =>  10\n",
      "evaluating with max encoder number of  10\n",
      "Classification Report:\n",
      "              precision    recall  f1-score   support\n",
      "\n",
      "           1     1.0000    1.0000    1.0000       249\n",
      "           0     1.0000    1.0000    1.0000       253\n",
      "\n",
      "    accuracy                         1.0000       502\n",
      "   macro avg     1.0000    1.0000    1.0000       502\n",
      "weighted avg     1.0000    1.0000    1.0000       502\n",
      "\n",
      "accuracy when using  10  layers 1.0\n",
      "changing encoder number :  12  =>  11\n",
      "evaluating with max encoder number of  11\n",
      "Classification Report:\n",
      "              precision    recall  f1-score   support\n",
      "\n",
      "           1     1.0000    1.0000    1.0000       249\n",
      "           0     1.0000    1.0000    1.0000       253\n",
      "\n",
      "    accuracy                         1.0000       502\n",
      "   macro avg     1.0000    1.0000    1.0000       502\n",
      "weighted avg     1.0000    1.0000    1.0000       502\n",
      "\n",
      "accuracy when using  11  layers 1.0\n",
      "changing encoder number :  12  =>  12\n",
      "evaluating with max encoder number of  12\n",
      "Classification Report:\n",
      "              precision    recall  f1-score   support\n",
      "\n",
      "           1     1.0000    1.0000    1.0000       249\n",
      "           0     1.0000    1.0000    1.0000       253\n",
      "\n",
      "    accuracy                         1.0000       502\n",
      "   macro avg     1.0000    1.0000    1.0000       502\n",
      "weighted avg     1.0000    1.0000    1.0000       502\n",
      "\n",
      "accuracy when using  12  layers 1.0\n",
      "loading model trained with 10 number of layers\n",
      "Model loaded from <== /home/ilee300/workspace/nlp_ofa/./data/10model.pt\n",
      "changing encoder number :  12  =>  5\n",
      "evaluating with max encoder number of  5\n",
      "Classification Report:\n",
      "              precision    recall  f1-score   support\n",
      "\n",
      "           1     1.0000    1.0000    1.0000       249\n",
      "           0     1.0000    1.0000    1.0000       253\n",
      "\n",
      "    accuracy                         1.0000       502\n",
      "   macro avg     1.0000    1.0000    1.0000       502\n",
      "weighted avg     1.0000    1.0000    1.0000       502\n",
      "\n",
      "accuracy when using  5  layers 1.0\n",
      "changing encoder number :  12  =>  6\n",
      "evaluating with max encoder number of  6\n",
      "Classification Report:\n",
      "              precision    recall  f1-score   support\n",
      "\n",
      "           1     1.0000    1.0000    1.0000       249\n",
      "           0     1.0000    1.0000    1.0000       253\n",
      "\n",
      "    accuracy                         1.0000       502\n",
      "   macro avg     1.0000    1.0000    1.0000       502\n",
      "weighted avg     1.0000    1.0000    1.0000       502\n",
      "\n",
      "accuracy when using  6  layers 1.0\n",
      "changing encoder number :  12  =>  7\n",
      "evaluating with max encoder number of  7\n",
      "Classification Report:\n",
      "              precision    recall  f1-score   support\n",
      "\n",
      "           1     1.0000    1.0000    1.0000       249\n",
      "           0     1.0000    1.0000    1.0000       253\n",
      "\n",
      "    accuracy                         1.0000       502\n",
      "   macro avg     1.0000    1.0000    1.0000       502\n",
      "weighted avg     1.0000    1.0000    1.0000       502\n",
      "\n",
      "accuracy when using  7  layers 1.0\n",
      "changing encoder number :  12  =>  8\n",
      "evaluating with max encoder number of  8\n",
      "Classification Report:\n",
      "              precision    recall  f1-score   support\n",
      "\n",
      "           1     1.0000    1.0000    1.0000       249\n",
      "           0     1.0000    1.0000    1.0000       253\n",
      "\n",
      "    accuracy                         1.0000       502\n",
      "   macro avg     1.0000    1.0000    1.0000       502\n",
      "weighted avg     1.0000    1.0000    1.0000       502\n",
      "\n",
      "accuracy when using  8  layers 1.0\n",
      "changing encoder number :  12  =>  9\n",
      "evaluating with max encoder number of  9\n",
      "Classification Report:\n",
      "              precision    recall  f1-score   support\n",
      "\n",
      "           1     1.0000    1.0000    1.0000       249\n",
      "           0     1.0000    1.0000    1.0000       253\n",
      "\n",
      "    accuracy                         1.0000       502\n",
      "   macro avg     1.0000    1.0000    1.0000       502\n",
      "weighted avg     1.0000    1.0000    1.0000       502\n",
      "\n",
      "accuracy when using  9  layers 1.0\n",
      "changing encoder number :  12  =>  10\n",
      "evaluating with max encoder number of  10\n",
      "Classification Report:\n",
      "              precision    recall  f1-score   support\n",
      "\n",
      "           1     1.0000    1.0000    1.0000       249\n",
      "           0     1.0000    1.0000    1.0000       253\n",
      "\n",
      "    accuracy                         1.0000       502\n",
      "   macro avg     1.0000    1.0000    1.0000       502\n",
      "weighted avg     1.0000    1.0000    1.0000       502\n",
      "\n",
      "accuracy when using  10  layers 1.0\n",
      "changing encoder number :  12  =>  11\n",
      "evaluating with max encoder number of  11\n",
      "Classification Report:\n",
      "              precision    recall  f1-score   support\n",
      "\n",
      "           1     1.0000    1.0000    1.0000       249\n",
      "           0     1.0000    1.0000    1.0000       253\n",
      "\n",
      "    accuracy                         1.0000       502\n",
      "   macro avg     1.0000    1.0000    1.0000       502\n",
      "weighted avg     1.0000    1.0000    1.0000       502\n",
      "\n",
      "accuracy when using  11  layers 1.0\n",
      "changing encoder number :  12  =>  12\n",
      "evaluating with max encoder number of  12\n",
      "Classification Report:\n",
      "              precision    recall  f1-score   support\n",
      "\n",
      "           1     1.0000    1.0000    1.0000       249\n",
      "           0     1.0000    1.0000    1.0000       253\n",
      "\n",
      "    accuracy                         1.0000       502\n",
      "   macro avg     1.0000    1.0000    1.0000       502\n",
      "weighted avg     1.0000    1.0000    1.0000       502\n",
      "\n",
      "accuracy when using  12  layers 1.0\n",
      "loading model trained with 11 number of layers\n",
      "Model loaded from <== /home/ilee300/workspace/nlp_ofa/./data/11model.pt\n",
      "changing encoder number :  12  =>  5\n",
      "evaluating with max encoder number of  5\n",
      "Classification Report:\n",
      "              precision    recall  f1-score   support\n",
      "\n",
      "           1     1.0000    1.0000    1.0000       249\n",
      "           0     1.0000    1.0000    1.0000       253\n",
      "\n",
      "    accuracy                         1.0000       502\n",
      "   macro avg     1.0000    1.0000    1.0000       502\n",
      "weighted avg     1.0000    1.0000    1.0000       502\n",
      "\n",
      "accuracy when using  5  layers 1.0\n",
      "changing encoder number :  12  =>  6\n",
      "evaluating with max encoder number of  6\n",
      "Classification Report:\n",
      "              precision    recall  f1-score   support\n",
      "\n",
      "           1     1.0000    1.0000    1.0000       249\n",
      "           0     1.0000    1.0000    1.0000       253\n",
      "\n",
      "    accuracy                         1.0000       502\n",
      "   macro avg     1.0000    1.0000    1.0000       502\n",
      "weighted avg     1.0000    1.0000    1.0000       502\n",
      "\n",
      "accuracy when using  6  layers 1.0\n",
      "changing encoder number :  12  =>  7\n",
      "evaluating with max encoder number of  7\n",
      "Classification Report:\n",
      "              precision    recall  f1-score   support\n",
      "\n",
      "           1     1.0000    1.0000    1.0000       249\n",
      "           0     1.0000    1.0000    1.0000       253\n",
      "\n",
      "    accuracy                         1.0000       502\n",
      "   macro avg     1.0000    1.0000    1.0000       502\n",
      "weighted avg     1.0000    1.0000    1.0000       502\n",
      "\n",
      "accuracy when using  7  layers 1.0\n",
      "changing encoder number :  12  =>  8\n",
      "evaluating with max encoder number of  8\n",
      "Classification Report:\n",
      "              precision    recall  f1-score   support\n",
      "\n",
      "           1     1.0000    1.0000    1.0000       249\n",
      "           0     1.0000    1.0000    1.0000       253\n",
      "\n",
      "    accuracy                         1.0000       502\n",
      "   macro avg     1.0000    1.0000    1.0000       502\n",
      "weighted avg     1.0000    1.0000    1.0000       502\n",
      "\n",
      "accuracy when using  8  layers 1.0\n",
      "changing encoder number :  12  =>  9\n",
      "evaluating with max encoder number of  9\n"
     ]
    },
    {
     "name": "stdout",
     "output_type": "stream",
     "text": [
      "Classification Report:\n",
      "              precision    recall  f1-score   support\n",
      "\n",
      "           1     1.0000    1.0000    1.0000       249\n",
      "           0     1.0000    1.0000    1.0000       253\n",
      "\n",
      "    accuracy                         1.0000       502\n",
      "   macro avg     1.0000    1.0000    1.0000       502\n",
      "weighted avg     1.0000    1.0000    1.0000       502\n",
      "\n",
      "accuracy when using  9  layers 1.0\n",
      "changing encoder number :  12  =>  10\n",
      "evaluating with max encoder number of  10\n",
      "Classification Report:\n",
      "              precision    recall  f1-score   support\n",
      "\n",
      "           1     1.0000    1.0000    1.0000       249\n",
      "           0     1.0000    1.0000    1.0000       253\n",
      "\n",
      "    accuracy                         1.0000       502\n",
      "   macro avg     1.0000    1.0000    1.0000       502\n",
      "weighted avg     1.0000    1.0000    1.0000       502\n",
      "\n",
      "accuracy when using  10  layers 1.0\n",
      "changing encoder number :  12  =>  11\n",
      "evaluating with max encoder number of  11\n",
      "Classification Report:\n",
      "              precision    recall  f1-score   support\n",
      "\n",
      "           1     1.0000    1.0000    1.0000       249\n",
      "           0     1.0000    1.0000    1.0000       253\n",
      "\n",
      "    accuracy                         1.0000       502\n",
      "   macro avg     1.0000    1.0000    1.0000       502\n",
      "weighted avg     1.0000    1.0000    1.0000       502\n",
      "\n",
      "accuracy when using  11  layers 1.0\n",
      "changing encoder number :  12  =>  12\n",
      "evaluating with max encoder number of  12\n",
      "Classification Report:\n",
      "              precision    recall  f1-score   support\n",
      "\n",
      "           1     1.0000    1.0000    1.0000       249\n",
      "           0     1.0000    1.0000    1.0000       253\n",
      "\n",
      "    accuracy                         1.0000       502\n",
      "   macro avg     1.0000    1.0000    1.0000       502\n",
      "weighted avg     1.0000    1.0000    1.0000       502\n",
      "\n",
      "accuracy when using  12  layers 1.0\n",
      "loading model trained with 12 number of layers\n",
      "Model loaded from <== /home/ilee300/workspace/nlp_ofa/./data/12model.pt\n",
      "changing encoder number :  12  =>  5\n",
      "evaluating with max encoder number of  5\n",
      "Classification Report:\n",
      "              precision    recall  f1-score   support\n",
      "\n",
      "           1     1.0000    1.0000    1.0000       249\n",
      "           0     1.0000    1.0000    1.0000       253\n",
      "\n",
      "    accuracy                         1.0000       502\n",
      "   macro avg     1.0000    1.0000    1.0000       502\n",
      "weighted avg     1.0000    1.0000    1.0000       502\n",
      "\n",
      "accuracy when using  5  layers 1.0\n",
      "changing encoder number :  12  =>  6\n",
      "evaluating with max encoder number of  6\n",
      "Classification Report:\n",
      "              precision    recall  f1-score   support\n",
      "\n",
      "           1     1.0000    1.0000    1.0000       249\n",
      "           0     1.0000    1.0000    1.0000       253\n",
      "\n",
      "    accuracy                         1.0000       502\n",
      "   macro avg     1.0000    1.0000    1.0000       502\n",
      "weighted avg     1.0000    1.0000    1.0000       502\n",
      "\n",
      "accuracy when using  6  layers 1.0\n",
      "changing encoder number :  12  =>  7\n",
      "evaluating with max encoder number of  7\n",
      "Classification Report:\n",
      "              precision    recall  f1-score   support\n",
      "\n",
      "           1     1.0000    1.0000    1.0000       249\n",
      "           0     1.0000    1.0000    1.0000       253\n",
      "\n",
      "    accuracy                         1.0000       502\n",
      "   macro avg     1.0000    1.0000    1.0000       502\n",
      "weighted avg     1.0000    1.0000    1.0000       502\n",
      "\n",
      "accuracy when using  7  layers 1.0\n",
      "changing encoder number :  12  =>  8\n",
      "evaluating with max encoder number of  8\n",
      "Classification Report:\n",
      "              precision    recall  f1-score   support\n",
      "\n",
      "           1     1.0000    1.0000    1.0000       249\n",
      "           0     1.0000    1.0000    1.0000       253\n",
      "\n",
      "    accuracy                         1.0000       502\n",
      "   macro avg     1.0000    1.0000    1.0000       502\n",
      "weighted avg     1.0000    1.0000    1.0000       502\n",
      "\n",
      "accuracy when using  8  layers 1.0\n",
      "changing encoder number :  12  =>  9\n",
      "evaluating with max encoder number of  9\n",
      "Classification Report:\n",
      "              precision    recall  f1-score   support\n",
      "\n",
      "           1     1.0000    1.0000    1.0000       249\n",
      "           0     1.0000    1.0000    1.0000       253\n",
      "\n",
      "    accuracy                         1.0000       502\n",
      "   macro avg     1.0000    1.0000    1.0000       502\n",
      "weighted avg     1.0000    1.0000    1.0000       502\n",
      "\n",
      "accuracy when using  9  layers 1.0\n",
      "changing encoder number :  12  =>  10\n",
      "evaluating with max encoder number of  10\n",
      "Classification Report:\n",
      "              precision    recall  f1-score   support\n",
      "\n",
      "           1     1.0000    1.0000    1.0000       249\n",
      "           0     1.0000    1.0000    1.0000       253\n",
      "\n",
      "    accuracy                         1.0000       502\n",
      "   macro avg     1.0000    1.0000    1.0000       502\n",
      "weighted avg     1.0000    1.0000    1.0000       502\n",
      "\n",
      "accuracy when using  10  layers 1.0\n",
      "changing encoder number :  12  =>  11\n",
      "evaluating with max encoder number of  11\n",
      "Classification Report:\n",
      "              precision    recall  f1-score   support\n",
      "\n",
      "           1     1.0000    1.0000    1.0000       249\n",
      "           0     1.0000    1.0000    1.0000       253\n",
      "\n",
      "    accuracy                         1.0000       502\n",
      "   macro avg     1.0000    1.0000    1.0000       502\n",
      "weighted avg     1.0000    1.0000    1.0000       502\n",
      "\n",
      "accuracy when using  11  layers 1.0\n",
      "changing encoder number :  12  =>  12\n",
      "evaluating with max encoder number of  12\n",
      "Classification Report:\n",
      "              precision    recall  f1-score   support\n",
      "\n",
      "           1     1.0000    1.0000    1.0000       249\n",
      "           0     1.0000    1.0000    1.0000       253\n",
      "\n",
      "    accuracy                         1.0000       502\n",
      "   macro avg     1.0000    1.0000    1.0000       502\n",
      "weighted avg     1.0000    1.0000    1.0000       502\n",
      "\n",
      "accuracy when using  12  layers 1.0\n"
     ]
    },
    {
     "data": {
      "image/png": "[encoded data removed]",
      "text/plain": [
       "<Figure size 432x288 with 2 Axes>"
      ]
     },
     "metadata": {
      "needs_background": "light"
     },
     "output_type": "display_data"
    }
   ],
   "source": [
    "##evaluate using train data\n",
    "best_model = BERT().to(device)\n",
    "acc_dict = dict()\n",
    "for i in range(5,13):\n",
    "    print(\"loading model trained with \" + str(i) + \" number of layers\")\n",
    "    load_checkpoint(destination_folder +\"/\"+ str(i)+ 'model.pt', best_model)\n",
    "\n",
    "    for j in range(5,13):\n",
    "        acc = evaluate(best_model, train_iter, max_encoder_num=j)\n",
    "        acc_dict[(i,j)] = acc\n",
    "        print(\"accuracy when using \", j, \" layers\", acc)"
   ]
  },
  {
   "cell_type": "code",
   "execution_count": 55,
   "id": "37c13572",
   "metadata": {},
   "outputs": [
    {
     "data": {
      "image/png": "[encoded data removed]",
      "text/plain": [
       "<Figure size 432x288 with 2 Axes>"
      ]
     },
     "metadata": {
      "needs_background": "light"
     },
     "output_type": "display_data"
    }
   ],
   "source": [
    "array = np.empty((8,8))\n",
    "for i in range(5,13):\n",
    "    for j in range(5,13):\n",
    "        array[i-5][j-5] = acc_dict[(i,j)]\n",
    "ax = sns.heatmap(array,  linewidth=0.5,xticklabels=list(range(5,13)), yticklabels=list(range(5,13)))\n",
    "ax.invert_yaxis()\n",
    "ax.set_ylabel('num layers used for eval')\n",
    "ax.set_xlabel('num layers for the trained model')\n",
    "# ax.axis([5, 12,5,12])\n",
    "plt.show()"
   ]
  },
  {
   "cell_type": "code",
   "execution_count": null,
   "id": "3fe7bfc3",
   "metadata": {},
   "outputs": [],
   "source": []
  }
 ],
 "metadata": {
  "kernelspec": {
   "display_name": "Python 3 (ipykernel)",
   "language": "python",
   "name": "python3"
  },
  "language_info": {
   "codemirror_mode": {
    "name": "ipython",
    "version": 3
   },
   "file_extension": ".py",
   "mimetype": "text/x-python",
   "name": "python",
   "nbconvert_exporter": "python",
   "pygments_lexer": "ipython3",
   "version": "3.9.6"
  }
 },
 "nbformat": 4,
 "nbformat_minor": 5
}
