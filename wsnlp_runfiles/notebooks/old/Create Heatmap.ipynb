{
 "cells": [
  {
   "cell_type": "code",
   "execution_count": 1,
   "id": "aee98b0a",
   "metadata": {},
   "outputs": [],
   "source": [
    "import numpy as np"
   ]
  },
  {
   "cell_type": "code",
   "execution_count": 13,
   "id": "527a3715",
   "metadata": {},
   "outputs": [],
   "source": [
    "import os"
   ]
  },
  {
   "cell_type": "code",
   "execution_count": 2,
   "id": "3d9ea479",
   "metadata": {},
   "outputs": [],
   "source": [
    "import seaborn as sns\n",
    "import matplotlib.pyplot as plt\n",
    "\n",
    "import pandas as pd\n",
    "import numpy as np\n",
    "import torch\n",
    "import random"
   ]
  },
  {
   "cell_type": "code",
   "execution_count": 47,
   "id": "356acc35",
   "metadata": {},
   "outputs": [],
   "source": [
    "def save_heat_map(output_destination_folder, file_name,tick_marks, data,epochs_per_stage,last, num_subnets, no_sandwich ):\n",
    "    plt.clf()\n",
    "    assert tick_marks, \"please provide tickmarks to generate the graph\"\n",
    "    ax = sns.heatmap(data,  linewidth=0.5,xticklabels=tick_marks, yticklabels=tick_marks)\n",
    "    ax.invert_xaxis()\n",
    "    ax.set_xlabel('config used for eval')\n",
    "    ax.set_ylabel('lower bound for the elasticity')\n",
    "    # ax.axis([5, 12,5,12])\n",
    "    plot_file_name = file_name\n",
    "#     plot_file_name += \"last\" if last else \"best\"\n",
    "    plot_file_name += \".png\"\n",
    "\n",
    "    print(\"plot file name : \" , plot_file_name)\n",
    "    plot_title_name = \"attention_ratio\" + \" \" + str(num_subnets) + \" subnets ; \"\n",
    "    plot_title_name += \"sandwich \" if not no_sandwich else \"no sandwich \"\n",
    "    plot_title_name += str(epochs_per_stage) + \" epochs per stage \"\n",
    "    plot_title_name += \"last\" if last else \"best\"\n",
    "    plt.title(plot_title_name)\n",
    "    \n",
    "    print(\"plot title name : \" , plot_title_name)\n",
    "\n",
    "    \n",
    "    plt.savefig(plot_file_name)\n",
    "\n",
    "    # ax = sns.heatmap(best_model_acc,  linewidth=0.5,xticklabels=list(range(5,13)), yticklabels=list(range(5,13)))\n",
    "    # ax.invert_yaxis()\n",
    "    # ax.set_xlabel('num layers used for eval')\n",
    "    # ax.set_ylabel('num layers for the trained model')\n",
    "    # # ax.axis([5, 12,5,12])\n",
    "    # plt.title(\"2 subnets; no sandwich; 1 epoch per layer; best model\")\n",
    "\n",
    "    # plt.savefig(os.path.join(output_destination_folder,'./2subnet_noSandwich_1epoch_best_heatmap.png'))\n",
    "    # save_checkpoint(destination_folder + '/2subnet_noSandwich_1epoch_last_model.pt', model, -1) \n",
    "    \n"
   ]
  },
  {
   "cell_type": "code",
   "execution_count": 6,
   "id": "2bdc7820",
   "metadata": {},
   "outputs": [],
   "source": [
    "num_subnets = 4"
   ]
  },
  {
   "cell_type": "code",
   "execution_count": 17,
   "id": "1be3c4cf",
   "metadata": {},
   "outputs": [],
   "source": [
    "attention_dimensions = [i/10 for i in range(1,11,1)]\n",
    "attention_dimensions.sort(reverse=True)"
   ]
  },
  {
   "cell_type": "code",
   "execution_count": 19,
   "id": "296c9c14",
   "metadata": {},
   "outputs": [
    {
     "data": {
      "text/plain": [
       "[1.0, 0.9, 0.8, 0.7, 0.6, 0.5, 0.4, 0.3, 0.2, 0.1]"
      ]
     },
     "execution_count": 19,
     "metadata": {},
     "output_type": "execute_result"
    }
   ],
   "source": [
    "attention_dimensions"
   ]
  },
  {
   "cell_type": "code",
   "execution_count": 5,
   "id": "77d02c23",
   "metadata": {},
   "outputs": [],
   "source": [
    "output_destination_folder = \"../runscripts/outputs\""
   ]
  },
  {
   "cell_type": "code",
   "execution_count": 7,
   "id": "dd63ab7c",
   "metadata": {},
   "outputs": [],
   "source": [
    "epochs_per_stage=1\n",
    "subnets_list = [2,4,8]"
   ]
  },
  {
   "cell_type": "code",
   "execution_count": 9,
   "id": "5788c5ec",
   "metadata": {},
   "outputs": [],
   "source": [
    "sandwich=True"
   ]
  },
  {
   "cell_type": "code",
   "execution_count": 20,
   "id": "8b1e7618",
   "metadata": {},
   "outputs": [],
   "source": [
    "file_prefix =  \"elastic_attention_ratio_\" + str(attention_dimensions) + \"_epochs_\" + str(epochs_per_stage) + \"_num_subnets_\"+str(num_subnets)+\"_sandwich_\"+str(sandwich)\n"
   ]
  },
  {
   "cell_type": "code",
   "execution_count": 11,
   "id": "060ca870",
   "metadata": {},
   "outputs": [],
   "source": [
    "last_model_acc = None\n",
    "best_model_acc = None"
   ]
  },
  {
   "cell_type": "code",
   "execution_count": 24,
   "id": "1d6dc823",
   "metadata": {},
   "outputs": [],
   "source": [
    "\n"
   ]
  },
  {
   "cell_type": "code",
   "execution_count": 36,
   "id": "9bdb3980",
   "metadata": {},
   "outputs": [],
   "source": [
    "file_name = os.path.join(output_destination_folder,\"./\"+file_prefix + '_last')\n",
    "with open( file_name+\".npy\", 'rb') as f:\n",
    "    last_model_acc=np.load(f)\n",
    "save_heat_map(output_destination_folder, file_name,attention_dimensions, last_model_acc,1,True, 4, False )\n"
   ]
  },
  {
   "cell_type": "code",
   "execution_count": 42,
   "id": "1e41ce9a",
   "metadata": {},
   "outputs": [
    {
     "name": "stdout",
     "output_type": "stream",
     "text": [
      "plot file name :  ../runscripts/outputs/./elastic_attention_ratio_[1.0, 0.9, 0.8, 0.7, 0.6, 0.5, 0.4, 0.3, 0.2, 0.1]_epochs_1_num_subnets_4_sandwich_True_bestbest.png\n",
      "plot title name :  elastic_attention_ratio_[1.0, 0.9, 0.8, 0.7, 0.6, 0.5, 0.4, 0.3, 0.2, 0.1]_epochs_1_num_subnets_4_sandwich_True 4 subnets ; sandwich 1 epochs per stage best\n"
     ]
    },
    {
     "data": {
      "image/png": "[encoded data removed]",
      "text/plain": [
       "<Figure size 432x288 with 2 Axes>"
      ]
     },
     "metadata": {
      "needs_background": "light"
     },
     "output_type": "display_data"
    }
   ],
   "source": [
    "file_name = os.path.join(output_destination_folder,\"./\"+file_prefix + '_best')\n",
    "with open(file_name+\".npy\", 'rb') as f:    \n",
    "    best_model_acc=np.load(f)\n",
    "save_heat_map(output_destination_folder, file_name,attention_dimensions, best_model_acc,1,False, 4, False )\n"
   ]
  },
  {
   "cell_type": "code",
   "execution_count": 49,
   "id": "74ae871f",
   "metadata": {},
   "outputs": [
    {
     "name": "stdout",
     "output_type": "stream",
     "text": [
      "plot file name :  ../runscripts/outputs/./elastic_attention_ratio_[1.0, 0.9, 0.8, 0.7, 0.6, 0.5, 0.4, 0.3, 0.2, 0.1]_epochs_1_num_subnets_2_sandwich_True_last.png\n",
      "plot title name :  attention_ratio 2 subnets ; sandwich 1 epochs per stage last\n",
      "plot file name :  ../runscripts/outputs/./elastic_attention_ratio_[1.0, 0.9, 0.8, 0.7, 0.6, 0.5, 0.4, 0.3, 0.2, 0.1]_epochs_1_num_subnets_2_sandwich_True_best.png\n",
      "plot title name :  attention_ratio 2 subnets ; sandwich 1 epochs per stage best\n",
      "plot file name :  ../runscripts/outputs/./elastic_attention_ratio_[1.0, 0.9, 0.8, 0.7, 0.6, 0.5, 0.4, 0.3, 0.2, 0.1]_epochs_1_num_subnets_4_sandwich_True_last.png\n",
      "plot title name :  attention_ratio 4 subnets ; sandwich 1 epochs per stage last\n",
      "plot file name :  ../runscripts/outputs/./elastic_attention_ratio_[1.0, 0.9, 0.8, 0.7, 0.6, 0.5, 0.4, 0.3, 0.2, 0.1]_epochs_1_num_subnets_4_sandwich_True_best.png\n",
      "plot title name :  attention_ratio 4 subnets ; sandwich 1 epochs per stage best\n",
      "plot file name :  ../runscripts/outputs/./elastic_attention_ratio_[1.0, 0.9, 0.8, 0.7, 0.6, 0.5, 0.4, 0.3, 0.2, 0.1]_epochs_1_num_subnets_8_sandwich_True_last.png\n",
      "plot title name :  attention_ratio 8 subnets ; sandwich 1 epochs per stage last\n",
      "plot file name :  ../runscripts/outputs/./elastic_attention_ratio_[1.0, 0.9, 0.8, 0.7, 0.6, 0.5, 0.4, 0.3, 0.2, 0.1]_epochs_1_num_subnets_8_sandwich_True_best.png\n",
      "plot title name :  attention_ratio 8 subnets ; sandwich 1 epochs per stage best\n"
     ]
    },
    {
     "data": {
      "image/png": "[encoded data removed]",
      "text/plain": [
       "<Figure size 432x288 with 2 Axes>"
      ]
     },
     "metadata": {
      "needs_background": "light"
     },
     "output_type": "display_data"
    }
   ],
   "source": [
    "for num_subnets in subnets_list:\n",
    "    file_prefix =  \"elastic_attention_ratio_\" + str(attention_dimensions) + \"_epochs_\" + str(epochs_per_stage) + \"_num_subnets_\"+str(num_subnets)+\"_sandwich_\"+str(sandwich)\n",
    "    file_name = os.path.join(output_destination_folder,\"./\"+file_prefix + '_last')\n",
    "    with open( file_name+\".npy\", 'rb') as f:\n",
    "        last_model_acc=np.load(f)\n",
    "    save_heat_map(output_destination_folder, file_name,attention_dimensions, last_model_acc,1,True, num_subnets, False )\n",
    "    file_name = os.path.join(output_destination_folder,\"./\"+file_prefix + '_best')\n",
    "    with open(file_name+\".npy\", 'rb') as f:    \n",
    "        best_model_acc=np.load(f)\n",
    "    save_heat_map(output_destination_folder, file_name,attention_dimensions, best_model_acc,1,False, num_subnets, False )\n"
   ]
  },
  {
   "cell_type": "code",
   "execution_count": 51,
   "id": "63575909",
   "metadata": {},
   "outputs": [
    {
     "name": "stdout",
     "output_type": "stream",
     "text": [
      "plot file name :  ../runscripts/outputs/./elastic_attention_ratio_[1.0, 0.9, 0.8, 0.7, 0.6, 0.5, 0.4, 0.3, 0.2, 0.1]_epochs_1_num_subnets_4_sandwich_True_last.png\n",
      "plot title name :  attention_ratio 8 subnets ; sandwich 1 epochs per stage last\n"
     ]
    },
    {
     "data": {
      "image/png": "[encoded data removed]",
      "text/plain": [
       "<Figure size 432x288 with 2 Axes>"
      ]
     },
     "metadata": {
      "needs_background": "light"
     },
     "output_type": "display_data"
    }
   ],
   "source": [
    "file_prefix =  \"elastic_attention_ratio_\" + str(attention_dimensions) + \"_epochs_\" + str(epochs_per_stage) + \"_num_subnets_\"+str(4)+\"_sandwich_\"+str(sandwich)\n",
    "file_name = os.path.join(output_destination_folder,\"./\"+file_prefix + '_last')\n",
    "with open( file_name+\".npy\", 'rb') as f:\n",
    "    last_model_acc=np.load(f)\n",
    "# save_heat_map(output_destination_folder, file_name,attention_dimensions, last_model_acc,1,True, num_subnets, False )\n",
    "file_name = os.path.join(output_destination_folder,\"./\"+file_prefix + '_best')\n",
    "with open(file_name+\".npy\", 'rb') as f:    \n",
    "    best_model_acc=np.load(f)"
   ]
  },
  {
   "cell_type": "code",
   "execution_count": 62,
   "id": "44d35f8e",
   "metadata": {},
   "outputs": [
    {
     "name": "stdout",
     "output_type": "stream",
     "text": [
      "1.0  :  0.73504\n",
      "0.9  :  0.74288\n",
      "0.8  :  0.74324\n",
      "0.7  :  0.74104\n",
      "0.6  :  0.74728\n",
      "0.5  :  0.75616\n",
      "0.4  :  0.7524\n",
      "0.3  :  0.75812\n",
      "0.2  :  0.74308\n",
      "0.1  :  0.705\n"
     ]
    }
   ],
   "source": [
    "for i, val in enumerate(attention_dimensions):\n",
    "    print(val, \" : \" , last_model_acc[-1][i])"
   ]
  },
  {
   "cell_type": "code",
   "execution_count": 60,
   "id": "41159667",
   "metadata": {},
   "outputs": [
    {
     "name": "stdout",
     "output_type": "stream",
     "text": [
      "1.0  :  0.73504\n",
      "0.9  :  0.74288\n",
      "0.8  :  0.74324\n",
      "0.7  :  0.74104\n",
      "0.6  :  0.74728\n",
      "0.5  :  0.75616\n",
      "0.4  :  0.7524\n",
      "0.3  :  0.75812\n",
      "0.2  :  0.74308\n",
      "0.1  :  0.705\n"
     ]
    }
   ],
   "source": [
    "for i, val in enumerate(attention_dimensions):\n",
    "    print(val, \" : \" , best_model_acc[-1][i])"
   ]
  },
  {
   "cell_type": "code",
   "execution_count": 61,
   "id": "00b8c353",
   "metadata": {},
   "outputs": [],
   "source": [
    "file_name = os.path.join(output_destination_folder,\"./\"+file_prefix + '_last')\n",
    "with open(file_name+\".npy\", 'rb') as f:    \n",
    "    last_model_acc=np.load(f)"
   ]
  },
  {
   "cell_type": "code",
   "execution_count": null,
   "id": "e050ab9e",
   "metadata": {},
   "outputs": [],
   "source": []
  }
 ],
 "metadata": {
  "kernelspec": {
   "display_name": "Python 3 (ipykernel)",
   "language": "python",
   "name": "python3"
  },
  "language_info": {
   "codemirror_mode": {
    "name": "ipython",
    "version": 3
   },
   "file_extension": ".py",
   "mimetype": "text/x-python",
   "name": "python",
   "nbconvert_exporter": "python",
   "pygments_lexer": "ipython3",
   "version": "3.9.7"
  }
 },
 "nbformat": 4,
 "nbformat_minor": 5
}
